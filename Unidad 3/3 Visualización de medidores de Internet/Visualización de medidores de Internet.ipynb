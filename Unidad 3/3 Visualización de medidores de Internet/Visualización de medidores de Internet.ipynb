{
 "metadata": {
  "language_info": {
   "codemirror_mode": {
    "name": "ipython",
    "version": 3
   },
   "file_extension": ".py",
   "mimetype": "text/x-python",
   "name": "python",
   "nbconvert_exporter": "python",
   "pygments_lexer": "ipython3",
   "version": "3.8.3-final"
  },
  "orig_nbformat": 2,
  "kernelspec": {
   "name": "python38364bitverano2020condaa9523807e76e4665880a3db1c5830ccb",
   "display_name": "Python 3.8.3 64-bit ('Verano2020': conda)"
  }
 },
 "nbformat": 4,
 "nbformat_minor": 2,
 "cells": [
  {
   "cell_type": "markdown",
   "metadata": {},
   "source": [
    "![](../../CintillaTecNM-ITD.png)\n",
    "\n",
    "<div style = \"Text-align: center\">\n",
    "    <h2> Analisis de datos masivos </h2>\n",
    "    <h3> Visualización de medidores de Internet </h3><br>\n",
    "    <h3> Nombre docente </h3>\n",
    "    <h4> Jose Gabriel Rodriguez Rivas <h4>\n",
    "    <h3> Nombre Alumno </h3>\n",
    "    <h4> Misael Omar Vargas Ochoa <h4>\n",
    "</div>"
   ]
  },
  {
   "cell_type": "code",
   "execution_count": 135,
   "metadata": {},
   "outputs": [],
   "source": [
    "import pandas as pd\n",
    "import numpy as np"
   ]
  },
  {
   "cell_type": "code",
   "execution_count": 136,
   "metadata": {},
   "outputs": [
    {
     "output_type": "execute_result",
     "data": {
      "text/plain": "   Unnamed: 0  Ping (ms)  Download (Mbit/s)  Upload (Mbit/s)        Date  \\\n0           0     26.992              91.80            14.31  2016-11-24   \n1           1     24.532              88.19            14.12  2016-11-24   \n2           2     20.225              59.86            14.11  2016-11-24   \n\n       Time  \n0  13:36:25  \n1  13:36:55  \n2  13:37:25  ",
      "text/html": "<div>\n<style scoped>\n    .dataframe tbody tr th:only-of-type {\n        vertical-align: middle;\n    }\n\n    .dataframe tbody tr th {\n        vertical-align: top;\n    }\n\n    .dataframe thead th {\n        text-align: right;\n    }\n</style>\n<table border=\"1\" class=\"dataframe\">\n  <thead>\n    <tr style=\"text-align: right;\">\n      <th></th>\n      <th>Unnamed: 0</th>\n      <th>Ping (ms)</th>\n      <th>Download (Mbit/s)</th>\n      <th>Upload (Mbit/s)</th>\n      <th>Date</th>\n      <th>Time</th>\n    </tr>\n  </thead>\n  <tbody>\n    <tr>\n      <th>0</th>\n      <td>0</td>\n      <td>26.992</td>\n      <td>91.80</td>\n      <td>14.31</td>\n      <td>2016-11-24</td>\n      <td>13:36:25</td>\n    </tr>\n    <tr>\n      <th>1</th>\n      <td>1</td>\n      <td>24.532</td>\n      <td>88.19</td>\n      <td>14.12</td>\n      <td>2016-11-24</td>\n      <td>13:36:55</td>\n    </tr>\n    <tr>\n      <th>2</th>\n      <td>2</td>\n      <td>20.225</td>\n      <td>59.86</td>\n      <td>14.11</td>\n      <td>2016-11-24</td>\n      <td>13:37:25</td>\n    </tr>\n  </tbody>\n</table>\n</div>"
     },
     "metadata": {},
     "execution_count": 136
    }
   ],
   "source": [
    "df_compact = pd.read_csv('./rpi_data_compact2.csv')\n",
    "df_compact.head(3)"
   ]
  },
  {
   "cell_type": "code",
   "execution_count": 137,
   "metadata": {},
   "outputs": [
    {
     "output_type": "execute_result",
     "data": {
      "text/plain": "     Ping (ms)  Download (Mbit/s)  Upload (Mbit/s)        Date      Time\n0       26.992              91.80            14.31  2016-11-24  13:36:25\n1       24.532              88.19            14.12  2016-11-24  13:36:55\n2       20.225              59.86            14.11  2016-11-24  13:37:25\n3       19.332              91.81            14.22  2016-11-24  13:37:57\n4       22.494              92.05            14.08  2016-11-24  13:38:27\n..         ...                ...              ...         ...       ...\n675    100.000            2016.00              NaN         NaN       NaN\n676    100.000            2016.00              NaN         NaN       NaN\n677    100.000            2016.00              NaN         NaN       NaN\n678    100.000            2016.00              NaN         NaN       NaN\n679     22.175              85.69            14.23        2016       NaN\n\n[680 rows x 5 columns]",
      "text/html": "<div>\n<style scoped>\n    .dataframe tbody tr th:only-of-type {\n        vertical-align: middle;\n    }\n\n    .dataframe tbody tr th {\n        vertical-align: top;\n    }\n\n    .dataframe thead th {\n        text-align: right;\n    }\n</style>\n<table border=\"1\" class=\"dataframe\">\n  <thead>\n    <tr style=\"text-align: right;\">\n      <th></th>\n      <th>Ping (ms)</th>\n      <th>Download (Mbit/s)</th>\n      <th>Upload (Mbit/s)</th>\n      <th>Date</th>\n      <th>Time</th>\n    </tr>\n  </thead>\n  <tbody>\n    <tr>\n      <th>0</th>\n      <td>26.992</td>\n      <td>91.80</td>\n      <td>14.31</td>\n      <td>2016-11-24</td>\n      <td>13:36:25</td>\n    </tr>\n    <tr>\n      <th>1</th>\n      <td>24.532</td>\n      <td>88.19</td>\n      <td>14.12</td>\n      <td>2016-11-24</td>\n      <td>13:36:55</td>\n    </tr>\n    <tr>\n      <th>2</th>\n      <td>20.225</td>\n      <td>59.86</td>\n      <td>14.11</td>\n      <td>2016-11-24</td>\n      <td>13:37:25</td>\n    </tr>\n    <tr>\n      <th>3</th>\n      <td>19.332</td>\n      <td>91.81</td>\n      <td>14.22</td>\n      <td>2016-11-24</td>\n      <td>13:37:57</td>\n    </tr>\n    <tr>\n      <th>4</th>\n      <td>22.494</td>\n      <td>92.05</td>\n      <td>14.08</td>\n      <td>2016-11-24</td>\n      <td>13:38:27</td>\n    </tr>\n    <tr>\n      <th>...</th>\n      <td>...</td>\n      <td>...</td>\n      <td>...</td>\n      <td>...</td>\n      <td>...</td>\n    </tr>\n    <tr>\n      <th>675</th>\n      <td>100.000</td>\n      <td>2016.00</td>\n      <td>NaN</td>\n      <td>NaN</td>\n      <td>NaN</td>\n    </tr>\n    <tr>\n      <th>676</th>\n      <td>100.000</td>\n      <td>2016.00</td>\n      <td>NaN</td>\n      <td>NaN</td>\n      <td>NaN</td>\n    </tr>\n    <tr>\n      <th>677</th>\n      <td>100.000</td>\n      <td>2016.00</td>\n      <td>NaN</td>\n      <td>NaN</td>\n      <td>NaN</td>\n    </tr>\n    <tr>\n      <th>678</th>\n      <td>100.000</td>\n      <td>2016.00</td>\n      <td>NaN</td>\n      <td>NaN</td>\n      <td>NaN</td>\n    </tr>\n    <tr>\n      <th>679</th>\n      <td>22.175</td>\n      <td>85.69</td>\n      <td>14.23</td>\n      <td>2016</td>\n      <td>NaN</td>\n    </tr>\n  </tbody>\n</table>\n<p>680 rows × 5 columns</p>\n</div>"
     },
     "metadata": {},
     "execution_count": 137
    }
   ],
   "source": [
    "df_compact.drop(['Unnamed: 0'], axis=1, inplace=True)\n",
    "df_compact"
   ]
  },
  {
   "cell_type": "code",
   "execution_count": 138,
   "metadata": {
    "tags": []
   },
   "outputs": [
    {
     "output_type": "stream",
     "name": "stdout",
     "text": "<class 'pandas.core.frame.DataFrame'>\n"
    },
    {
     "output_type": "execute_result",
     "data": {
      "text/plain": "   Ping (ms)  Download (Mbit/s)  Upload (Mbit/s)   Date   Time\n0      False              False            False  False  False\n1      False              False            False  False  False\n2      False              False            False  False  False\n3      False              False            False  False  False\n4      False              False            False  False  False",
      "text/html": "<div>\n<style scoped>\n    .dataframe tbody tr th:only-of-type {\n        vertical-align: middle;\n    }\n\n    .dataframe tbody tr th {\n        vertical-align: top;\n    }\n\n    .dataframe thead th {\n        text-align: right;\n    }\n</style>\n<table border=\"1\" class=\"dataframe\">\n  <thead>\n    <tr style=\"text-align: right;\">\n      <th></th>\n      <th>Ping (ms)</th>\n      <th>Download (Mbit/s)</th>\n      <th>Upload (Mbit/s)</th>\n      <th>Date</th>\n      <th>Time</th>\n    </tr>\n  </thead>\n  <tbody>\n    <tr>\n      <th>0</th>\n      <td>False</td>\n      <td>False</td>\n      <td>False</td>\n      <td>False</td>\n      <td>False</td>\n    </tr>\n    <tr>\n      <th>1</th>\n      <td>False</td>\n      <td>False</td>\n      <td>False</td>\n      <td>False</td>\n      <td>False</td>\n    </tr>\n    <tr>\n      <th>2</th>\n      <td>False</td>\n      <td>False</td>\n      <td>False</td>\n      <td>False</td>\n      <td>False</td>\n    </tr>\n    <tr>\n      <th>3</th>\n      <td>False</td>\n      <td>False</td>\n      <td>False</td>\n      <td>False</td>\n      <td>False</td>\n    </tr>\n    <tr>\n      <th>4</th>\n      <td>False</td>\n      <td>False</td>\n      <td>False</td>\n      <td>False</td>\n      <td>False</td>\n    </tr>\n  </tbody>\n</table>\n</div>"
     },
     "metadata": {},
     "execution_count": 138
    }
   ],
   "source": [
    "NaNs_in_df = df_compact.isnull()\n",
    "print(type(NaNs_in_df))\n",
    "NaNs_in_df.head()"
   ]
  },
  {
   "cell_type": "code",
   "execution_count": 139,
   "metadata": {
    "tags": []
   },
   "outputs": [
    {
     "output_type": "stream",
     "name": "stdout",
     "text": "<class 'pandas.core.series.Series'>\n"
    },
    {
     "output_type": "execute_result",
     "data": {
      "text/plain": "Ping (ms)            1\nDownload (Mbit/s)    1\nUpload (Mbit/s)      7\nDate                 7\nTime                 8\ndtype: int64"
     },
     "metadata": {},
     "execution_count": 139
    }
   ],
   "source": [
    "NaNs_per_column = NaNs_in_df.sum()\n",
    "print(type(NaNs_per_column))\n",
    "NaNs_per_column.head()"
   ]
  },
  {
   "cell_type": "code",
   "execution_count": 140,
   "metadata": {},
   "outputs": [
    {
     "output_type": "execute_result",
     "data": {
      "text/plain": "24"
     },
     "metadata": {},
     "execution_count": 140
    }
   ],
   "source": [
    "NaNs_total = NaNs_per_column.sum()\n",
    "NaNs_total"
   ]
  },
  {
   "cell_type": "code",
   "execution_count": 141,
   "metadata": {},
   "outputs": [
    {
     "output_type": "execute_result",
     "data": {
      "text/plain": "24"
     },
     "metadata": {},
     "execution_count": 141
    }
   ],
   "source": [
    "df_compact.isnull().sum().sum()"
   ]
  },
  {
   "cell_type": "code",
   "execution_count": 142,
   "metadata": {
    "tags": []
   },
   "outputs": [
    {
     "output_type": "stream",
     "name": "stdout",
     "text": "The DataFrame contains : 24 NaNs, equals to 0.7059 of the measurements\n"
    }
   ],
   "source": [
    "NaNs_pct = np.round(df_compact.isnull().sum().sum()/float(len(df_compact)*len(df_compact.columns))*100, decimals = 4)\n",
    "print('The DataFrame contains : {} NaNs, equals to {} of the measurements'.format(NaNs_total, NaNs_pct))"
   ]
  },
  {
   "cell_type": "code",
   "execution_count": 143,
   "metadata": {},
   "outputs": [],
   "source": [
    "df_compact_clean = df_compact.dropna()"
   ]
  },
  {
   "cell_type": "code",
   "execution_count": 144,
   "metadata": {
    "tags": []
   },
   "outputs": [
    {
     "output_type": "stream",
     "name": "stdout",
     "text": "Longitud sin dropna 680, Longitud con dropna 672\n"
    }
   ],
   "source": [
    "print('Longitud sin dropna {}, Longitud con dropna {}'.format(len(df_compact), len(df_compact_clean)))"
   ]
  },
  {
   "cell_type": "markdown",
   "metadata": {},
   "source": [
    "### ¿Observa algún valor impar? ¿Por qué?\n"
   ]
  },
  {
   "cell_type": "code",
   "execution_count": 145,
   "metadata": {},
   "outputs": [
    {
     "output_type": "execute_result",
     "data": {
      "text/plain": "Ping (ms)            float64\nDownload (Mbit/s)    float64\nUpload (Mbit/s)      float64\nDate                  object\nTime                  object\ndtype: object"
     },
     "metadata": {},
     "execution_count": 145
    }
   ],
   "source": [
    "df_compact.dtypes"
   ]
  },
  {
   "cell_type": "code",
   "execution_count": 146,
   "metadata": {
    "tags": []
   },
   "outputs": [
    {
     "output_type": "stream",
     "name": "stdout",
     "text": "10.56 <class 'str'> 10.56 <class 'float'>\n"
    }
   ],
   "source": [
    "str_val = '10.56'\n",
    "float_val = float(str_val)\n",
    "print(str_val, type(str_val), float_val, type(float_val))"
   ]
  },
  {
   "cell_type": "code",
   "execution_count": 147,
   "metadata": {},
   "outputs": [],
   "source": [
    "df_compact_clean['Ping (ms)_float'] = df_compact_clean['Ping (ms)'].apply(lambda val: float(val))\n",
    "df_compact_clean['Download (Mbit/s)_float'] = df_compact_clean['Download (Mbit/s)'].apply(lambda val: float(val))"
   ]
  },
  {
   "cell_type": "code",
   "execution_count": 148,
   "metadata": {},
   "outputs": [
    {
     "output_type": "execute_result",
     "data": {
      "text/plain": "Ping (ms)                  float64\nDownload (Mbit/s)          float64\nUpload (Mbit/s)            float64\nDate                        object\nTime                        object\nPing (ms)_float            float64\nDownload (Mbit/s)_float    float64\ndtype: object"
     },
     "metadata": {},
     "execution_count": 148
    }
   ],
   "source": [
    "df_compact_clean.dtypes"
   ]
  },
  {
   "cell_type": "code",
   "execution_count": 149,
   "metadata": {},
   "outputs": [
    {
     "output_type": "execute_result",
     "data": {
      "text/plain": "     Upload (Mbit/s)        Date      Time  Ping (ms)_float  \\\n0              14.31  2016-11-24  13:36:25           26.992   \n1              14.12  2016-11-24  13:36:55           24.532   \n2              14.11  2016-11-24  13:37:25           20.225   \n3              14.22  2016-11-24  13:37:57           19.332   \n4              14.08  2016-11-24  13:38:27           22.494   \n..               ...         ...       ...              ...   \n667            14.18  2016-11-24  19:15:01           23.073   \n668            14.35  2016-11-24  19:15:32           20.952   \n669            14.35  2016-11-24  19:16:04           19.397   \n670            14.33  2016-11-24  19:16:34           20.117   \n671             6.88  2016-11-24  19:17:04           17.995   \n\n     Download (Mbit/s)_float  \n0                      91.80  \n1                      88.19  \n2                      59.86  \n3                      91.81  \n4                      92.05  \n..                       ...  \n667                    83.97  \n668                    88.67  \n669                    84.86  \n670                    84.99  \n671                    86.21  \n\n[672 rows x 5 columns]",
      "text/html": "<div>\n<style scoped>\n    .dataframe tbody tr th:only-of-type {\n        vertical-align: middle;\n    }\n\n    .dataframe tbody tr th {\n        vertical-align: top;\n    }\n\n    .dataframe thead th {\n        text-align: right;\n    }\n</style>\n<table border=\"1\" class=\"dataframe\">\n  <thead>\n    <tr style=\"text-align: right;\">\n      <th></th>\n      <th>Upload (Mbit/s)</th>\n      <th>Date</th>\n      <th>Time</th>\n      <th>Ping (ms)_float</th>\n      <th>Download (Mbit/s)_float</th>\n    </tr>\n  </thead>\n  <tbody>\n    <tr>\n      <th>0</th>\n      <td>14.31</td>\n      <td>2016-11-24</td>\n      <td>13:36:25</td>\n      <td>26.992</td>\n      <td>91.80</td>\n    </tr>\n    <tr>\n      <th>1</th>\n      <td>14.12</td>\n      <td>2016-11-24</td>\n      <td>13:36:55</td>\n      <td>24.532</td>\n      <td>88.19</td>\n    </tr>\n    <tr>\n      <th>2</th>\n      <td>14.11</td>\n      <td>2016-11-24</td>\n      <td>13:37:25</td>\n      <td>20.225</td>\n      <td>59.86</td>\n    </tr>\n    <tr>\n      <th>3</th>\n      <td>14.22</td>\n      <td>2016-11-24</td>\n      <td>13:37:57</td>\n      <td>19.332</td>\n      <td>91.81</td>\n    </tr>\n    <tr>\n      <th>4</th>\n      <td>14.08</td>\n      <td>2016-11-24</td>\n      <td>13:38:27</td>\n      <td>22.494</td>\n      <td>92.05</td>\n    </tr>\n    <tr>\n      <th>...</th>\n      <td>...</td>\n      <td>...</td>\n      <td>...</td>\n      <td>...</td>\n      <td>...</td>\n    </tr>\n    <tr>\n      <th>667</th>\n      <td>14.18</td>\n      <td>2016-11-24</td>\n      <td>19:15:01</td>\n      <td>23.073</td>\n      <td>83.97</td>\n    </tr>\n    <tr>\n      <th>668</th>\n      <td>14.35</td>\n      <td>2016-11-24</td>\n      <td>19:15:32</td>\n      <td>20.952</td>\n      <td>88.67</td>\n    </tr>\n    <tr>\n      <th>669</th>\n      <td>14.35</td>\n      <td>2016-11-24</td>\n      <td>19:16:04</td>\n      <td>19.397</td>\n      <td>84.86</td>\n    </tr>\n    <tr>\n      <th>670</th>\n      <td>14.33</td>\n      <td>2016-11-24</td>\n      <td>19:16:34</td>\n      <td>20.117</td>\n      <td>84.99</td>\n    </tr>\n    <tr>\n      <th>671</th>\n      <td>6.88</td>\n      <td>2016-11-24</td>\n      <td>19:17:04</td>\n      <td>17.995</td>\n      <td>86.21</td>\n    </tr>\n  </tbody>\n</table>\n<p>672 rows × 5 columns</p>\n</div>"
     },
     "metadata": {},
     "execution_count": 149
    }
   ],
   "source": [
    "df_compact_clean.drop(['Ping (ms)', 'Download (Mbit/s)'], axis=1, inplace=True)\n",
    "df_compact_clean"
   ]
  },
  {
   "cell_type": "code",
   "execution_count": 150,
   "metadata": {},
   "outputs": [],
   "source": [
    "columns = {\n",
    "    'Ping (ms)_float': 'Ping (ms)',\n",
    "    'Download (Mbit/s)_float': 'Download (Mbit/s)'\n",
    "    }\n",
    "\n",
    "df_compact_clean = df_compact_clean.rename(columns={'Ping (ms)_float':'Ping (ms)','Download (Mbit/s)_float':'Download (Mbit/s)'}, inplace=True)"
   ]
  },
  {
   "cell_type": "code",
   "execution_count": 151,
   "metadata": {},
   "outputs": [
    {
     "output_type": "execute_result",
     "data": {
      "text/plain": "NoneType"
     },
     "metadata": {},
     "execution_count": 151
    }
   ],
   "source": [
    "type(df_compact_clean)"
   ]
  },
  {
   "cell_type": "code",
   "execution_count": null,
   "metadata": {},
   "outputs": [],
   "source": []
  }
 ]
}