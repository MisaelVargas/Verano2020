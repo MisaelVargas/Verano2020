{
 "metadata": {
  "language_info": {
   "codemirror_mode": {
    "name": "ipython",
    "version": 3
   },
   "file_extension": ".py",
   "mimetype": "text/x-python",
   "name": "python",
   "nbconvert_exporter": "python",
   "pygments_lexer": "ipython3",
   "version": "3.8.3-final"
  },
  "orig_nbformat": 2,
  "kernelspec": {
   "name": "python38364bitverano2020condaa9523807e76e4665880a3db1c5830ccb",
   "display_name": "Python 3.8.3 64-bit ('Verano2020': conda)"
  }
 },
 "nbformat": 4,
 "nbformat_minor": 2,
 "cells": [
  {
   "cell_type": "markdown",
   "metadata": {},
   "source": [
    "![](../../CintillaTecNM-ITD.png)\n",
    "\n",
    "<div style = \"Text-align: center\">\n",
    "    <h2> Análisis de datos masivos</h2>\n",
    "    <h3> Contador de Internet </h3><br>\n",
    "    <h3> Nombre docente </h3>\n",
    "    <h4> Jose Gabriel Rodriguez Rivas<h4>\n",
    "    <h3> Nombre Alumno </h3>\n",
    "    <h4> Misael Omar Vargas Ochoa <h4>\n",
    "</div>"
   ]
  },
  {
   "cell_type": "markdown",
   "metadata": {},
   "source": [
    "# Parte uno\n",
    "## "
   ]
  },
  {
   "cell_type": "code",
   "execution_count": 14,
   "metadata": {},
   "outputs": [],
   "source": [
    "import datetime\n",
    "import csv\n",
    "import subprocess"
   ]
  },
  {
   "cell_type": "code",
   "execution_count": 15,
   "metadata": {
    "tags": []
   },
   "outputs": [
    {
     "output_type": "stream",
     "name": "stdout",
     "text": "2020-07-22 09:45:24.956770 <class 'datetime.datetime'>\n"
    }
   ],
   "source": [
    "date_time = datetime.datetime.now()\n",
    "print(date_time, type(date_time))"
   ]
  },
  {
   "cell_type": "code",
   "execution_count": 16,
   "metadata": {},
   "outputs": [
    {
     "output_type": "execute_result",
     "data": {
      "text/plain": "'Wed, 22 Jul 2020 09:45:24'"
     },
     "metadata": {},
     "execution_count": 16
    }
   ],
   "source": [
    "date_time.strftime('%a, %d %b %Y %H:%M:%S')"
   ]
  },
  {
   "cell_type": "code",
   "execution_count": 17,
   "metadata": {},
   "outputs": [],
   "source": [
    "speedtest_cmd = \"speedtest-cli --simple\"\n",
    "\n",
    "process = subprocess.Popen(speedtest_cmd.split(), stdout=subprocess.PIPE)\n",
    "\n",
    "process_output = process.communicate()[0]"
   ]
  },
  {
   "cell_type": "code",
   "execution_count": 18,
   "metadata": {
    "tags": []
   },
   "outputs": [
    {
     "output_type": "stream",
     "name": "stdout",
     "text": "b'Ping: 17.675 ms\\nDownload: 7.09 Mbit/s\\nUpload: 0.71 Mbit/s\\n' <class 'bytes'>\n"
    }
   ],
   "source": [
    "print(process_output, type(process_output))"
   ]
  },
  {
   "cell_type": "code",
   "execution_count": 19,
   "metadata": {
    "tags": []
   },
   "outputs": [
    {
     "output_type": "stream",
     "name": "stdout",
     "text": "['Ping:', '17.675', 'ms', 'Download:', '7.09', 'Mbit/s', 'Upload:', '0.71', 'Mbit/s', '2020-07-22 09:45:53'] <class 'list'>\n"
    }
   ],
   "source": [
    "date_time = datetime.datetime.now().strftime(\"%Y-%m-%d %H:%M:%S\")\n",
    "process_output = process_output.decode()\n",
    "process_output = process_output.split()\n",
    "process_output.append(date_time)\n",
    "print(process_output, type(process_output))"
   ]
  },
  {
   "cell_type": "code",
   "execution_count": 20,
   "metadata": {},
   "outputs": [],
   "source": [
    "def speedtest():\n",
    "    \n",
    "    date_time = datetime.datetime.now().strftime(\"%Y-%m-%d %H:%M:%S\")\n",
    "    \n",
    "    speedtest_cmd = \"speedtest-cli --simple\"\n",
    "     \n",
    "    process = subprocess.Popen(speedtest_cmd.split(), stdout=subprocess.PIPE)\n",
    "    process_output = process.communicate()[0]\n",
    "    process_output = process_output.decode()\n",
    "    process_output = process_output.split()\n",
    "     \n",
    "    process_output.append(date_time)\n",
    "    \n",
    "    return process_output"
   ]
  },
  {
   "cell_type": "code",
   "execution_count": 21,
   "metadata": {},
   "outputs": [
    {
     "output_type": "execute_result",
     "data": {
      "text/plain": "['Ping:',\n '17.675',\n 'ms',\n 'Download:',\n '7.09',\n 'Mbit/s',\n 'Upload:',\n '0.71',\n 'Mbit/s',\n '2020-07-22 09:45:53']"
     },
     "metadata": {},
     "execution_count": 21
    }
   ],
   "source": [
    "process_output"
   ]
  },
  {
   "cell_type": "code",
   "execution_count": 22,
   "metadata": {},
   "outputs": [],
   "source": [
    "with open(\"./Data/test.txt\",'w') as f:\n",
    "    f.write('test_msg')"
   ]
  },
  {
   "cell_type": "code",
   "execution_count": 23,
   "metadata": {
    "tags": []
   },
   "outputs": [
    {
     "output_type": "stream",
     "name": "stdout",
     "text": "test_msg\n"
    }
   ],
   "source": [
    "with open(\"./Data/test.txt\",'r') as f:\n",
    "    str = f.read()\n",
    "print(str)"
   ]
  },
  {
   "cell_type": "code",
   "execution_count": 24,
   "metadata": {},
   "outputs": [],
   "source": [
    "def save_to_csv(data, filename):\n",
    "    try:\n",
    "        with open(filename + '.csv', 'a') as f:\n",
    "\n",
    "            wr = csv.writer(f)\n",
    "\n",
    "            wr.writerow(data)\n",
    "    except:\n",
    "        with open(filename + '.csv', 'w') as f:\n",
    "\n",
    "            wr = csv.writer(f)\n",
    "\n",
    "            wr.writerow(data)"
   ]
  },
  {
   "cell_type": "code",
   "execution_count": 25,
   "metadata": {},
   "outputs": [],
   "source": [
    "def print_from_csv(filename): \n",
    "    with open(filename + '.csv', 'r') as f:\n",
    "        re = csv.reader(f)\n",
    "        for row in re:\n",
    "            print(row)"
   ]
  },
  {
   "cell_type": "code",
   "execution_count": 26,
   "metadata": {
    "tags": []
   },
   "outputs": [
    {
     "output_type": "stream",
     "name": "stdout",
     "text": "Test number 0\n['Ping:', '21.865', 'ms', 'Download:', '7.66', 'Mbit/s', 'Upload:', '0.94', 'Mbit/s', '2020-07-22 09:45:54']\nTest number 1\n['Ping:', '16.51', 'ms', 'Download:', '7.09', 'Mbit/s', 'Upload:', '0.98', 'Mbit/s', '2020-07-22 09:46:30']\nTest number 2\n['Ping:', '135.168', 'ms', 'Download:', '3.32', 'Mbit/s', 'Upload:', '0.87', 'Mbit/s', '2020-07-22 09:47:01']\nTest number 3\n['Ping:', '49.759', 'ms', 'Download:', '4.81', 'Mbit/s', 'Upload:', '0.86', 'Mbit/s', '2020-07-22 09:47:38']\nTest number 4\n['Ping:', '16.519', 'ms', 'Download:', '5.73', 'Mbit/s', 'Upload:', '0.75', 'Mbit/s', '2020-07-22 09:48:12']\nTest number 5\n['Ping:', '20.215', 'ms', 'Download:', '4.40', 'Mbit/s', 'Upload:', '0.85', 'Mbit/s', '2020-07-22 09:48:42']\nTest number 6\n['Ping:', '22.939', 'ms', 'Download:', '5.10', 'Mbit/s', 'Upload:', '0.91', 'Mbit/s', '2020-07-22 09:49:13']\nTest number 7\n['Ping:', '58.328', 'ms', 'Download:', '2.79', 'Mbit/s', 'Upload:', '1.22', 'Mbit/s', '2020-07-22 09:49:51']\nTest number 8\n['Ping:', '19.87', 'ms', 'Download:', '5.63', 'Mbit/s', 'Upload:', '1.04', 'Mbit/s', '2020-07-22 09:50:26']\nTest number 9\n['Ping:', '21.515', 'ms', 'Download:', '7.29', 'Mbit/s', 'Upload:', '0.95', 'Mbit/s', '2020-07-22 09:51:06']\n"
    }
   ],
   "source": [
    "for i in range(10):\n",
    "\n",
    "    speedtest_output = speedtest()\n",
    "\n",
    "    print('Test number {}'.format(i))\n",
    "    print(speedtest_output)\n",
    "    \n",
    "    save_to_csv(speedtest_output, './Data/rpi_data_test')"
   ]
  },
  {
   "cell_type": "code",
   "execution_count": 27,
   "metadata": {
    "tags": []
   },
   "outputs": [
    {
     "output_type": "stream",
     "name": "stdout",
     "text": "['Ping:', '19.866', 'ms', 'Download:', '5.25', 'Mbit/s', 'Upload:', '0.85', 'Mbit/s', '2020-07-21 18:50:14']\n['Ping:', '17.126', 'ms', 'Download:', '4.47', 'Mbit/s', 'Upload:', '1.11', 'Mbit/s', '2020-07-21 18:50:52']\n['Ping:', '16.582', 'ms', 'Download:', '6.94', 'Mbit/s', 'Upload:', '1.03', 'Mbit/s', '2020-07-21 18:51:26']\n['Ping:', '20.182', 'ms', 'Download:', '7.28', 'Mbit/s', 'Upload:', '1.10', 'Mbit/s', '2020-07-21 18:52:03']\n['Ping:', '19.884', 'ms', 'Download:', '7.26', 'Mbit/s', 'Upload:', '1.09', 'Mbit/s', '2020-07-21 18:52:36']\n['Ping:', '17.974', 'ms', 'Download:', '6.17', 'Mbit/s', 'Upload:', '0.81', 'Mbit/s', '2020-07-21 18:53:14']\n['Ping:', '19.989', 'ms', 'Download:', '6.22', 'Mbit/s', 'Upload:', '1.12', 'Mbit/s', '2020-07-21 18:53:50']\n['Ping:', '20.008', 'ms', 'Download:', '7.21', 'Mbit/s', 'Upload:', '0.93', 'Mbit/s', '2020-07-21 18:54:28']\n['Ping:', '54.735', 'ms', 'Download:', '7.23', 'Mbit/s', 'Upload:', '1.04', 'Mbit/s', '2020-07-21 18:55:05']\n['Ping:', '20.141', 'ms', 'Download:', '7.52', 'Mbit/s', 'Upload:', '0.99', 'Mbit/s', '2020-07-21 18:55:37']\n['Ping:', '21.865', 'ms', 'Download:', '7.66', 'Mbit/s', 'Upload:', '0.94', 'Mbit/s', '2020-07-22 09:45:54']\n['Ping:', '16.51', 'ms', 'Download:', '7.09', 'Mbit/s', 'Upload:', '0.98', 'Mbit/s', '2020-07-22 09:46:30']\n['Ping:', '135.168', 'ms', 'Download:', '3.32', 'Mbit/s', 'Upload:', '0.87', 'Mbit/s', '2020-07-22 09:47:01']\n['Ping:', '49.759', 'ms', 'Download:', '4.81', 'Mbit/s', 'Upload:', '0.86', 'Mbit/s', '2020-07-22 09:47:38']\n['Ping:', '16.519', 'ms', 'Download:', '5.73', 'Mbit/s', 'Upload:', '0.75', 'Mbit/s', '2020-07-22 09:48:12']\n['Ping:', '20.215', 'ms', 'Download:', '4.40', 'Mbit/s', 'Upload:', '0.85', 'Mbit/s', '2020-07-22 09:48:42']\n['Ping:', '22.939', 'ms', 'Download:', '5.10', 'Mbit/s', 'Upload:', '0.91', 'Mbit/s', '2020-07-22 09:49:13']\n['Ping:', '58.328', 'ms', 'Download:', '2.79', 'Mbit/s', 'Upload:', '1.22', 'Mbit/s', '2020-07-22 09:49:51']\n['Ping:', '19.87', 'ms', 'Download:', '5.63', 'Mbit/s', 'Upload:', '1.04', 'Mbit/s', '2020-07-22 09:50:26']\n['Ping:', '21.515', 'ms', 'Download:', '7.29', 'Mbit/s', 'Upload:', '0.95', 'Mbit/s', '2020-07-22 09:51:06']\n"
    }
   ],
   "source": [
    "print_from_csv('./Data/rpi_data_test')"
   ]
  },
  {
   "cell_type": "markdown",
   "metadata": {},
   "source": [
    "# Parte dos"
   ]
  },
  {
   "cell_type": "code",
   "execution_count": 28,
   "metadata": {},
   "outputs": [],
   "source": [
    "import pandas as pd\n",
    "import numpy as np"
   ]
  },
  {
   "cell_type": "code",
   "execution_count": 29,
   "metadata": {},
   "outputs": [],
   "source": [
    "data_file = './Data/rpi_data_long.csv'\n",
    "\n",
    "column_names = [ \n",
    "    'Type A', 'Measure A', 'Units A',\n",
    "    'Type B', 'Measure B', 'Units B',\n",
    "    'Type C', 'Measure C', 'Units C', \n",
    "    'Datetime'\n",
    "    ]\n",
    "\n",
    "with open(data_file, 'r', encoding = 'utf-8') as f:\n",
    "    df_redundant = pd.read_csv(f, names = column_names)"
   ]
  },
  {
   "cell_type": "code",
   "execution_count": 30,
   "metadata": {},
   "outputs": [
    {
     "output_type": "execute_result",
     "data": {
      "text/plain": "  Type A  Measure A Units A     Type B  Measure B Units B   Type C  Measure C  \\\n0  Ping:     26.992      ms  Download:      91.80  Mbit/s  Upload:      14.31   \n1  Ping:     24.532      ms  Download:      88.19  Mbit/s  Upload:      14.12   \n2  Ping:     20.225      ms  Download:      59.86  Mbit/s  Upload:      14.11   \n3  Ping:     19.332      ms  Download:      91.81  Mbit/s  Upload:      14.22   \n4  Ping:     22.494      ms  Download:      92.05  Mbit/s  Upload:      14.08   \n\n  Units C             Datetime  \n0  Mbit/s  2016-11-24 13:36:25  \n1  Mbit/s  2016-11-24 13:36:55  \n2  Mbit/s  2016-11-24 13:37:25  \n3  Mbit/s  2016-11-24 13:37:57  \n4  Mbit/s  2016-11-24 13:38:27  ",
      "text/html": "<div>\n<style scoped>\n    .dataframe tbody tr th:only-of-type {\n        vertical-align: middle;\n    }\n\n    .dataframe tbody tr th {\n        vertical-align: top;\n    }\n\n    .dataframe thead th {\n        text-align: right;\n    }\n</style>\n<table border=\"1\" class=\"dataframe\">\n  <thead>\n    <tr style=\"text-align: right;\">\n      <th></th>\n      <th>Type A</th>\n      <th>Measure A</th>\n      <th>Units A</th>\n      <th>Type B</th>\n      <th>Measure B</th>\n      <th>Units B</th>\n      <th>Type C</th>\n      <th>Measure C</th>\n      <th>Units C</th>\n      <th>Datetime</th>\n    </tr>\n  </thead>\n  <tbody>\n    <tr>\n      <th>0</th>\n      <td>Ping:</td>\n      <td>26.992</td>\n      <td>ms</td>\n      <td>Download:</td>\n      <td>91.80</td>\n      <td>Mbit/s</td>\n      <td>Upload:</td>\n      <td>14.31</td>\n      <td>Mbit/s</td>\n      <td>2016-11-24 13:36:25</td>\n    </tr>\n    <tr>\n      <th>1</th>\n      <td>Ping:</td>\n      <td>24.532</td>\n      <td>ms</td>\n      <td>Download:</td>\n      <td>88.19</td>\n      <td>Mbit/s</td>\n      <td>Upload:</td>\n      <td>14.12</td>\n      <td>Mbit/s</td>\n      <td>2016-11-24 13:36:55</td>\n    </tr>\n    <tr>\n      <th>2</th>\n      <td>Ping:</td>\n      <td>20.225</td>\n      <td>ms</td>\n      <td>Download:</td>\n      <td>59.86</td>\n      <td>Mbit/s</td>\n      <td>Upload:</td>\n      <td>14.11</td>\n      <td>Mbit/s</td>\n      <td>2016-11-24 13:37:25</td>\n    </tr>\n    <tr>\n      <th>3</th>\n      <td>Ping:</td>\n      <td>19.332</td>\n      <td>ms</td>\n      <td>Download:</td>\n      <td>91.81</td>\n      <td>Mbit/s</td>\n      <td>Upload:</td>\n      <td>14.22</td>\n      <td>Mbit/s</td>\n      <td>2016-11-24 13:37:57</td>\n    </tr>\n    <tr>\n      <th>4</th>\n      <td>Ping:</td>\n      <td>22.494</td>\n      <td>ms</td>\n      <td>Download:</td>\n      <td>92.05</td>\n      <td>Mbit/s</td>\n      <td>Upload:</td>\n      <td>14.08</td>\n      <td>Mbit/s</td>\n      <td>2016-11-24 13:38:27</td>\n    </tr>\n  </tbody>\n</table>\n</div>"
     },
     "metadata": {},
     "execution_count": 30
    }
   ],
   "source": [
    "df_redundant.head()"
   ]
  },
  {
   "cell_type": "code",
   "execution_count": 31,
   "metadata": {},
   "outputs": [],
   "source": [
    "df_compact = df_redundant.copy()"
   ]
  },
  {
   "cell_type": "code",
   "execution_count": 32,
   "metadata": {},
   "outputs": [
    {
     "output_type": "execute_result",
     "data": {
      "text/plain": "  Type A  Ping (ms) Units A     Type B  Download (Mbit/s) Units B   Type C  \\\n0  Ping:     26.992      ms  Download:              91.80  Mbit/s  Upload:   \n1  Ping:     24.532      ms  Download:              88.19  Mbit/s  Upload:   \n2  Ping:     20.225      ms  Download:              59.86  Mbit/s  Upload:   \n\n   Upload (Mbit/s) Units C             Datetime  \n0            14.31  Mbit/s  2016-11-24 13:36:25  \n1            14.12  Mbit/s  2016-11-24 13:36:55  \n2            14.11  Mbit/s  2016-11-24 13:37:25  ",
      "text/html": "<div>\n<style scoped>\n    .dataframe tbody tr th:only-of-type {\n        vertical-align: middle;\n    }\n\n    .dataframe tbody tr th {\n        vertical-align: top;\n    }\n\n    .dataframe thead th {\n        text-align: right;\n    }\n</style>\n<table border=\"1\" class=\"dataframe\">\n  <thead>\n    <tr style=\"text-align: right;\">\n      <th></th>\n      <th>Type A</th>\n      <th>Ping (ms)</th>\n      <th>Units A</th>\n      <th>Type B</th>\n      <th>Download (Mbit/s)</th>\n      <th>Units B</th>\n      <th>Type C</th>\n      <th>Upload (Mbit/s)</th>\n      <th>Units C</th>\n      <th>Datetime</th>\n    </tr>\n  </thead>\n  <tbody>\n    <tr>\n      <th>0</th>\n      <td>Ping:</td>\n      <td>26.992</td>\n      <td>ms</td>\n      <td>Download:</td>\n      <td>91.80</td>\n      <td>Mbit/s</td>\n      <td>Upload:</td>\n      <td>14.31</td>\n      <td>Mbit/s</td>\n      <td>2016-11-24 13:36:25</td>\n    </tr>\n    <tr>\n      <th>1</th>\n      <td>Ping:</td>\n      <td>24.532</td>\n      <td>ms</td>\n      <td>Download:</td>\n      <td>88.19</td>\n      <td>Mbit/s</td>\n      <td>Upload:</td>\n      <td>14.12</td>\n      <td>Mbit/s</td>\n      <td>2016-11-24 13:36:55</td>\n    </tr>\n    <tr>\n      <th>2</th>\n      <td>Ping:</td>\n      <td>20.225</td>\n      <td>ms</td>\n      <td>Download:</td>\n      <td>59.86</td>\n      <td>Mbit/s</td>\n      <td>Upload:</td>\n      <td>14.11</td>\n      <td>Mbit/s</td>\n      <td>2016-11-24 13:37:25</td>\n    </tr>\n  </tbody>\n</table>\n</div>"
     },
     "metadata": {},
     "execution_count": 32
    }
   ],
   "source": [
    "df_compact.rename(columns={'Measure A':'Ping (ms)', \n",
    "                           'Measure B': 'Download (Mbit/s)',\n",
    "                           'Measure C': 'Upload (Mbit/s)'}, inplace=True)\n",
    "df_compact.head(3)"
   ]
  },
  {
   "cell_type": "code",
   "execution_count": 33,
   "metadata": {},
   "outputs": [
    {
     "output_type": "execute_result",
     "data": {
      "text/plain": "    Ping (ms)  Download (Mbit/s)  Upload (Mbit/s)             Datetime\n0      26.992              91.80            14.31  2016-11-24 13:36:25\n1      24.532              88.19            14.12  2016-11-24 13:36:55\n2      20.225              59.86            14.11  2016-11-24 13:37:25\n3      19.332              91.81            14.22  2016-11-24 13:37:57\n4      22.494              92.05            14.08  2016-11-24 13:38:27\n5      17.586              91.88            14.18  2016-11-24 13:39:01\n6      21.835              92.18            14.07  2016-11-24 13:39:30\n7      20.464              92.05            14.13  2016-11-24 13:40:00\n8      19.293              90.79            14.14  2016-11-24 13:40:30\n9      20.354              92.64            14.07  2016-11-24 13:41:00\n10     19.010              91.86            14.38  2016-11-24 13:41:30\n11     18.092              92.24            14.23  2016-11-24 13:42:00\n12     18.137              91.64            14.32  2016-11-24 13:42:30\n13     18.344              92.85            14.20  2016-11-24 13:43:00\n14     23.328              92.21            14.20  2016-11-24 13:43:29\n15     17.908              92.24            11.36  2016-11-24 13:43:59\n16     19.291              92.41            14.03  2016-11-24 13:44:31\n17     20.117              90.39            14.17  2016-11-24 13:45:01\n18     19.579              92.55            14.06  2016-11-24 13:45:32\n19     16.364              78.51            13.71  2016-11-24 13:46:02",
      "text/html": "<div>\n<style scoped>\n    .dataframe tbody tr th:only-of-type {\n        vertical-align: middle;\n    }\n\n    .dataframe tbody tr th {\n        vertical-align: top;\n    }\n\n    .dataframe thead th {\n        text-align: right;\n    }\n</style>\n<table border=\"1\" class=\"dataframe\">\n  <thead>\n    <tr style=\"text-align: right;\">\n      <th></th>\n      <th>Ping (ms)</th>\n      <th>Download (Mbit/s)</th>\n      <th>Upload (Mbit/s)</th>\n      <th>Datetime</th>\n    </tr>\n  </thead>\n  <tbody>\n    <tr>\n      <th>0</th>\n      <td>26.992</td>\n      <td>91.80</td>\n      <td>14.31</td>\n      <td>2016-11-24 13:36:25</td>\n    </tr>\n    <tr>\n      <th>1</th>\n      <td>24.532</td>\n      <td>88.19</td>\n      <td>14.12</td>\n      <td>2016-11-24 13:36:55</td>\n    </tr>\n    <tr>\n      <th>2</th>\n      <td>20.225</td>\n      <td>59.86</td>\n      <td>14.11</td>\n      <td>2016-11-24 13:37:25</td>\n    </tr>\n    <tr>\n      <th>3</th>\n      <td>19.332</td>\n      <td>91.81</td>\n      <td>14.22</td>\n      <td>2016-11-24 13:37:57</td>\n    </tr>\n    <tr>\n      <th>4</th>\n      <td>22.494</td>\n      <td>92.05</td>\n      <td>14.08</td>\n      <td>2016-11-24 13:38:27</td>\n    </tr>\n    <tr>\n      <th>5</th>\n      <td>17.586</td>\n      <td>91.88</td>\n      <td>14.18</td>\n      <td>2016-11-24 13:39:01</td>\n    </tr>\n    <tr>\n      <th>6</th>\n      <td>21.835</td>\n      <td>92.18</td>\n      <td>14.07</td>\n      <td>2016-11-24 13:39:30</td>\n    </tr>\n    <tr>\n      <th>7</th>\n      <td>20.464</td>\n      <td>92.05</td>\n      <td>14.13</td>\n      <td>2016-11-24 13:40:00</td>\n    </tr>\n    <tr>\n      <th>8</th>\n      <td>19.293</td>\n      <td>90.79</td>\n      <td>14.14</td>\n      <td>2016-11-24 13:40:30</td>\n    </tr>\n    <tr>\n      <th>9</th>\n      <td>20.354</td>\n      <td>92.64</td>\n      <td>14.07</td>\n      <td>2016-11-24 13:41:00</td>\n    </tr>\n    <tr>\n      <th>10</th>\n      <td>19.010</td>\n      <td>91.86</td>\n      <td>14.38</td>\n      <td>2016-11-24 13:41:30</td>\n    </tr>\n    <tr>\n      <th>11</th>\n      <td>18.092</td>\n      <td>92.24</td>\n      <td>14.23</td>\n      <td>2016-11-24 13:42:00</td>\n    </tr>\n    <tr>\n      <th>12</th>\n      <td>18.137</td>\n      <td>91.64</td>\n      <td>14.32</td>\n      <td>2016-11-24 13:42:30</td>\n    </tr>\n    <tr>\n      <th>13</th>\n      <td>18.344</td>\n      <td>92.85</td>\n      <td>14.20</td>\n      <td>2016-11-24 13:43:00</td>\n    </tr>\n    <tr>\n      <th>14</th>\n      <td>23.328</td>\n      <td>92.21</td>\n      <td>14.20</td>\n      <td>2016-11-24 13:43:29</td>\n    </tr>\n    <tr>\n      <th>15</th>\n      <td>17.908</td>\n      <td>92.24</td>\n      <td>11.36</td>\n      <td>2016-11-24 13:43:59</td>\n    </tr>\n    <tr>\n      <th>16</th>\n      <td>19.291</td>\n      <td>92.41</td>\n      <td>14.03</td>\n      <td>2016-11-24 13:44:31</td>\n    </tr>\n    <tr>\n      <th>17</th>\n      <td>20.117</td>\n      <td>90.39</td>\n      <td>14.17</td>\n      <td>2016-11-24 13:45:01</td>\n    </tr>\n    <tr>\n      <th>18</th>\n      <td>19.579</td>\n      <td>92.55</td>\n      <td>14.06</td>\n      <td>2016-11-24 13:45:32</td>\n    </tr>\n    <tr>\n      <th>19</th>\n      <td>16.364</td>\n      <td>78.51</td>\n      <td>13.71</td>\n      <td>2016-11-24 13:46:02</td>\n    </tr>\n  </tbody>\n</table>\n</div>"
     },
     "metadata": {},
     "execution_count": 33
    }
   ],
   "source": [
    "df_compact.drop(['Type A', 'Type B', 'Type C',\n",
    "         'Units A', 'Units B', 'Units C'], axis=1, inplace=True)\n",
    "\n",
    "df_compact.head(20)"
   ]
  },
  {
   "cell_type": "code",
   "execution_count": 34,
   "metadata": {},
   "outputs": [],
   "source": [
    "df_compact['Date'] = df_compact['Datetime'].apply(lambda dt_str: pd.to_datetime(dt_str).date())"
   ]
  },
  {
   "cell_type": "code",
   "execution_count": 35,
   "metadata": {},
   "outputs": [],
   "source": [
    "df_compact['Time'] = df_compact['Datetime'].apply(lambda dt_str: pd.to_datetime(dt_str).time())"
   ]
  },
  {
   "cell_type": "code",
   "execution_count": 36,
   "metadata": {},
   "outputs": [
    {
     "output_type": "execute_result",
     "data": {
      "text/plain": "   Ping (ms)  Download (Mbit/s)  Upload (Mbit/s)        Date      Time\n0     26.992              91.80            14.31  2016-11-24  13:36:25\n1     24.532              88.19            14.12  2016-11-24  13:36:55\n2     20.225              59.86            14.11  2016-11-24  13:37:25",
      "text/html": "<div>\n<style scoped>\n    .dataframe tbody tr th:only-of-type {\n        vertical-align: middle;\n    }\n\n    .dataframe tbody tr th {\n        vertical-align: top;\n    }\n\n    .dataframe thead th {\n        text-align: right;\n    }\n</style>\n<table border=\"1\" class=\"dataframe\">\n  <thead>\n    <tr style=\"text-align: right;\">\n      <th></th>\n      <th>Ping (ms)</th>\n      <th>Download (Mbit/s)</th>\n      <th>Upload (Mbit/s)</th>\n      <th>Date</th>\n      <th>Time</th>\n    </tr>\n  </thead>\n  <tbody>\n    <tr>\n      <th>0</th>\n      <td>26.992</td>\n      <td>91.80</td>\n      <td>14.31</td>\n      <td>2016-11-24</td>\n      <td>13:36:25</td>\n    </tr>\n    <tr>\n      <th>1</th>\n      <td>24.532</td>\n      <td>88.19</td>\n      <td>14.12</td>\n      <td>2016-11-24</td>\n      <td>13:36:55</td>\n    </tr>\n    <tr>\n      <th>2</th>\n      <td>20.225</td>\n      <td>59.86</td>\n      <td>14.11</td>\n      <td>2016-11-24</td>\n      <td>13:37:25</td>\n    </tr>\n  </tbody>\n</table>\n</div>"
     },
     "metadata": {},
     "execution_count": 36
    }
   ],
   "source": [
    "df_compact.drop(['Datetime'], axis=1, inplace=True)\n",
    "\n",
    "df_compact.head(3)"
   ]
  },
  {
   "cell_type": "code",
   "execution_count": 37,
   "metadata": {
    "tags": []
   },
   "outputs": [
    {
     "output_type": "stream",
     "name": "stdout",
     "text": "2016-11-24 <class 'datetime.date'>\n13:36:25 <class 'datetime.time'>\n"
    }
   ],
   "source": [
    "print(df_compact['Date'][0], type(df_compact['Date'][0]) )\n",
    "print(df_compact['Time'][0], type(df_compact['Time'][0]) )"
   ]
  },
  {
   "cell_type": "code",
   "execution_count": 38,
   "metadata": {},
   "outputs": [],
   "source": [
    "df_compact.to_csv('./Data/rpi_data_compact.csv')"
   ]
  }
 ]
}