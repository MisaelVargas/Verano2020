{
 "metadata": {
  "language_info": {
   "codemirror_mode": {
    "name": "ipython",
    "version": 3
   },
   "file_extension": ".py",
   "mimetype": "text/x-python",
   "name": "python",
   "nbconvert_exporter": "python",
   "pygments_lexer": "ipython3",
   "version": "3.8.3-final"
  },
  "orig_nbformat": 2,
  "kernelspec": {
   "name": "python38364bitverano2020condaa9523807e76e4665880a3db1c5830ccb",
   "display_name": "Python 3.8.3 64-bit ('Verano2020': conda)"
  }
 },
 "nbformat": 4,
 "nbformat_minor": 2,
 "cells": [
  {
   "cell_type": "markdown",
   "metadata": {},
   "source": [
    "![](CintillaTecNM-ITD.png)\n",
    "\n",
    "<div style = \"Text-align: center\">\n",
    "    <h2> Analisis de datos masivos</h2>\n",
    "    <h3> Contador de Internet </h3><br>\n",
    "    <h3> Nombre docente </h3>\n",
    "    <h4> Jose Gabriel Rodriguez Rivas<h4>\n",
    "    <h3> Nombre Alumno </h3>\n",
    "    <h4> Misael Omar Vargas Ochoa <h4>\n",
    "</div>"
   ]
  },
  {
   "cell_type": "markdown",
   "metadata": {},
   "source": [
    "# Parte uno\n",
    "## "
   ]
  },
  {
   "cell_type": "code",
   "execution_count": 97,
   "metadata": {},
   "outputs": [],
   "source": [
    "import datetime\n",
    "import csv\n",
    "import subprocess"
   ]
  },
  {
   "cell_type": "code",
   "execution_count": 98,
   "metadata": {
    "tags": []
   },
   "outputs": [
    {
     "output_type": "stream",
     "name": "stdout",
     "text": "2020-07-21 18:49:49.077452 <class 'datetime.datetime'>\n"
    }
   ],
   "source": [
    "date_time = datetime.datetime.now()\n",
    "print(date_time, type(date_time))"
   ]
  },
  {
   "cell_type": "code",
   "execution_count": 99,
   "metadata": {},
   "outputs": [
    {
     "output_type": "execute_result",
     "data": {
      "text/plain": "'Tue, 21 Jul 2020 18:49:49'"
     },
     "metadata": {},
     "execution_count": 99
    }
   ],
   "source": [
    "date_time.strftime('%a, %d %b %Y %H:%M:%S')"
   ]
  },
  {
   "cell_type": "code",
   "execution_count": 100,
   "metadata": {},
   "outputs": [],
   "source": [
    "speedtest_cmd = \"speedtest-cli --simple\"\n",
    "\n",
    "process = subprocess.Popen(speedtest_cmd.split(), stdout=subprocess.PIPE)\n",
    "\n",
    "process_output = process.communicate()[0]"
   ]
  },
  {
   "cell_type": "code",
   "execution_count": 101,
   "metadata": {
    "tags": []
   },
   "outputs": [
    {
     "output_type": "stream",
     "name": "stdout",
     "text": "b'Ping: 17.294 ms\\nDownload: 7.48 Mbit/s\\nUpload: 1.20 Mbit/s\\n' <class 'bytes'>\n"
    }
   ],
   "source": [
    "print(process_output, type(process_output))"
   ]
  },
  {
   "cell_type": "code",
   "execution_count": 102,
   "metadata": {
    "tags": []
   },
   "outputs": [
    {
     "output_type": "stream",
     "name": "stdout",
     "text": "['Ping:', '17.294', 'ms', 'Download:', '7.48', 'Mbit/s', 'Upload:', '1.20', 'Mbit/s', '2020-07-21 18:50:14'] <class 'list'>\n"
    }
   ],
   "source": [
    "date_time = datetime.datetime.now().strftime(\"%Y-%m-%d %H:%M:%S\")\n",
    "process_output = process_output.decode()\n",
    "process_output = process_output.split()\n",
    "process_output.append(date_time)\n",
    "print(process_output, type(process_output))"
   ]
  },
  {
   "cell_type": "code",
   "execution_count": 103,
   "metadata": {},
   "outputs": [],
   "source": [
    "def speedtest():\n",
    "    \n",
    "    date_time = datetime.datetime.now().strftime(\"%Y-%m-%d %H:%M:%S\")\n",
    "    \n",
    "    speedtest_cmd = \"speedtest-cli --simple\"\n",
    "     \n",
    "    process = subprocess.Popen(speedtest_cmd.split(), stdout=subprocess.PIPE)\n",
    "    process_output = process.communicate()[0]\n",
    "    process_output = process_output.decode()\n",
    "    process_output = process_output.split()\n",
    "     \n",
    "    process_output.append(date_time)\n",
    "    \n",
    "    return process_output"
   ]
  },
  {
   "cell_type": "code",
   "execution_count": 104,
   "metadata": {},
   "outputs": [
    {
     "output_type": "execute_result",
     "data": {
      "text/plain": "['Ping:',\n '17.294',\n 'ms',\n 'Download:',\n '7.48',\n 'Mbit/s',\n 'Upload:',\n '1.20',\n 'Mbit/s',\n '2020-07-21 18:50:14']"
     },
     "metadata": {},
     "execution_count": 104
    }
   ],
   "source": [
    "process_output"
   ]
  },
  {
   "cell_type": "code",
   "execution_count": 105,
   "metadata": {},
   "outputs": [],
   "source": [
    "with open(\"./Data/test.txt\",'w') as f:\n",
    "    f.write('test_msg')"
   ]
  },
  {
   "cell_type": "code",
   "execution_count": 106,
   "metadata": {
    "tags": []
   },
   "outputs": [
    {
     "output_type": "stream",
     "name": "stdout",
     "text": "test_msg\n"
    }
   ],
   "source": [
    "with open(\"./Data/test.txt\",'r') as f:\n",
    "    str = f.read()\n",
    "print(str)"
   ]
  },
  {
   "cell_type": "code",
   "execution_count": 107,
   "metadata": {},
   "outputs": [],
   "source": [
    "def save_to_csv(data, filename):\n",
    "    try:\n",
    "        # If the file exists, append a new line to it, with the \n",
    "        #results of the current experiment\n",
    "        with open(filename + '.csv', 'a') as f:\n",
    "            # Create a csv writer object \n",
    "            wr = csv.writer(f)\n",
    "            # Save (write) to file\n",
    "            wr.writerow(data)\n",
    "    except:\n",
    "        # If it does not exist, create the file first\n",
    "        with open(filename + '.csv', 'w') as f:\n",
    "            # Hint: This is similar to appending new lines to a file.\n",
    "            # Create a csv writer object\n",
    "            wr = csv.writer(f)\n",
    "            # Save (write) to file\n",
    "            wr.writerow(data)"
   ]
  },
  {
   "cell_type": "code",
   "execution_count": 108,
   "metadata": {},
   "outputs": [],
   "source": [
    "def print_from_csv(filename): \n",
    "    with open(filename + '.csv', 'r') as f:\n",
    "        re = csv.reader(f)\n",
    "        for row in re:\n",
    "            print(row)"
   ]
  },
  {
   "cell_type": "code",
   "execution_count": 109,
   "metadata": {
    "tags": []
   },
   "outputs": [
    {
     "output_type": "stream",
     "name": "stdout",
     "text": "Test number 0\nTest number 1\nTest number 2\nTest number 3\nTest number 4\nTest number 5\nTest number 6\nTest number 7\nTest number 8\nTest number 9\n"
    }
   ],
   "source": [
    "for i in range(10):\n",
    "\n",
    "    speedtest_output = speedtest()\n",
    "\n",
    "    print('Test number {}'.format(i))\n",
    "\n",
    "    save_to_csv(speedtest_output, './Data/rpi_data_test')"
   ]
  },
  {
   "cell_type": "code",
   "execution_count": 110,
   "metadata": {
    "tags": []
   },
   "outputs": [
    {
     "output_type": "stream",
     "name": "stdout",
     "text": "['Ping:', '19.866', 'ms', 'Download:', '5.25', 'Mbit/s', 'Upload:', '0.85', 'Mbit/s', '2020-07-21 18:50:14']\n['Ping:', '17.126', 'ms', 'Download:', '4.47', 'Mbit/s', 'Upload:', '1.11', 'Mbit/s', '2020-07-21 18:50:52']\n['Ping:', '16.582', 'ms', 'Download:', '6.94', 'Mbit/s', 'Upload:', '1.03', 'Mbit/s', '2020-07-21 18:51:26']\n['Ping:', '20.182', 'ms', 'Download:', '7.28', 'Mbit/s', 'Upload:', '1.10', 'Mbit/s', '2020-07-21 18:52:03']\n['Ping:', '19.884', 'ms', 'Download:', '7.26', 'Mbit/s', 'Upload:', '1.09', 'Mbit/s', '2020-07-21 18:52:36']\n['Ping:', '17.974', 'ms', 'Download:', '6.17', 'Mbit/s', 'Upload:', '0.81', 'Mbit/s', '2020-07-21 18:53:14']\n['Ping:', '19.989', 'ms', 'Download:', '6.22', 'Mbit/s', 'Upload:', '1.12', 'Mbit/s', '2020-07-21 18:53:50']\n['Ping:', '20.008', 'ms', 'Download:', '7.21', 'Mbit/s', 'Upload:', '0.93', 'Mbit/s', '2020-07-21 18:54:28']\n['Ping:', '54.735', 'ms', 'Download:', '7.23', 'Mbit/s', 'Upload:', '1.04', 'Mbit/s', '2020-07-21 18:55:05']\n['Ping:', '20.141', 'ms', 'Download:', '7.52', 'Mbit/s', 'Upload:', '0.99', 'Mbit/s', '2020-07-21 18:55:37']\n"
    }
   ],
   "source": [
    "print_from_csv('./Data/rpi_data_test')"
   ]
  },
  {
   "cell_type": "markdown",
   "metadata": {},
   "source": [
    "# Parte dos"
   ]
  },
  {
   "cell_type": "code",
   "execution_count": 111,
   "metadata": {},
   "outputs": [],
   "source": [
    "import pandas as pd\n",
    "import numpy as np"
   ]
  },
  {
   "cell_type": "code",
   "execution_count": 112,
   "metadata": {},
   "outputs": [],
   "source": [
    "data_file = './Data/rpi_data_test.csv'\n",
    "\n",
    "column_names = [ \n",
    "    'Type A', 'Measure A', 'Units A',\n",
    "    'Type B', 'Measure B', 'Units B',\n",
    "    'Type C', 'Measure C', 'Units C', \n",
    "    'Datetime'\n",
    "    ]\n",
    "\n",
    "with open(data_file, 'r', encoding = 'utf-8') as f:\n",
    "    df_redundant = pd.read_csv(f, names = column_names)"
   ]
  },
  {
   "cell_type": "code",
   "execution_count": 113,
   "metadata": {},
   "outputs": [
    {
     "output_type": "execute_result",
     "data": {
      "text/plain": "  Type A  Measure A Units A     Type B  Measure B Units B   Type C  Measure C  \\\n0  Ping:     19.866      ms  Download:       5.25  Mbit/s  Upload:       0.85   \n1  Ping:     17.126      ms  Download:       4.47  Mbit/s  Upload:       1.11   \n2  Ping:     16.582      ms  Download:       6.94  Mbit/s  Upload:       1.03   \n3  Ping:     20.182      ms  Download:       7.28  Mbit/s  Upload:       1.10   \n4  Ping:     19.884      ms  Download:       7.26  Mbit/s  Upload:       1.09   \n\n  Units C             Datetime  \n0  Mbit/s  2020-07-21 18:50:14  \n1  Mbit/s  2020-07-21 18:50:52  \n2  Mbit/s  2020-07-21 18:51:26  \n3  Mbit/s  2020-07-21 18:52:03  \n4  Mbit/s  2020-07-21 18:52:36  ",
      "text/html": "<div>\n<style scoped>\n    .dataframe tbody tr th:only-of-type {\n        vertical-align: middle;\n    }\n\n    .dataframe tbody tr th {\n        vertical-align: top;\n    }\n\n    .dataframe thead th {\n        text-align: right;\n    }\n</style>\n<table border=\"1\" class=\"dataframe\">\n  <thead>\n    <tr style=\"text-align: right;\">\n      <th></th>\n      <th>Type A</th>\n      <th>Measure A</th>\n      <th>Units A</th>\n      <th>Type B</th>\n      <th>Measure B</th>\n      <th>Units B</th>\n      <th>Type C</th>\n      <th>Measure C</th>\n      <th>Units C</th>\n      <th>Datetime</th>\n    </tr>\n  </thead>\n  <tbody>\n    <tr>\n      <th>0</th>\n      <td>Ping:</td>\n      <td>19.866</td>\n      <td>ms</td>\n      <td>Download:</td>\n      <td>5.25</td>\n      <td>Mbit/s</td>\n      <td>Upload:</td>\n      <td>0.85</td>\n      <td>Mbit/s</td>\n      <td>2020-07-21 18:50:14</td>\n    </tr>\n    <tr>\n      <th>1</th>\n      <td>Ping:</td>\n      <td>17.126</td>\n      <td>ms</td>\n      <td>Download:</td>\n      <td>4.47</td>\n      <td>Mbit/s</td>\n      <td>Upload:</td>\n      <td>1.11</td>\n      <td>Mbit/s</td>\n      <td>2020-07-21 18:50:52</td>\n    </tr>\n    <tr>\n      <th>2</th>\n      <td>Ping:</td>\n      <td>16.582</td>\n      <td>ms</td>\n      <td>Download:</td>\n      <td>6.94</td>\n      <td>Mbit/s</td>\n      <td>Upload:</td>\n      <td>1.03</td>\n      <td>Mbit/s</td>\n      <td>2020-07-21 18:51:26</td>\n    </tr>\n    <tr>\n      <th>3</th>\n      <td>Ping:</td>\n      <td>20.182</td>\n      <td>ms</td>\n      <td>Download:</td>\n      <td>7.28</td>\n      <td>Mbit/s</td>\n      <td>Upload:</td>\n      <td>1.10</td>\n      <td>Mbit/s</td>\n      <td>2020-07-21 18:52:03</td>\n    </tr>\n    <tr>\n      <th>4</th>\n      <td>Ping:</td>\n      <td>19.884</td>\n      <td>ms</td>\n      <td>Download:</td>\n      <td>7.26</td>\n      <td>Mbit/s</td>\n      <td>Upload:</td>\n      <td>1.09</td>\n      <td>Mbit/s</td>\n      <td>2020-07-21 18:52:36</td>\n    </tr>\n  </tbody>\n</table>\n</div>"
     },
     "metadata": {},
     "execution_count": 113
    }
   ],
   "source": [
    "df_redundant.head()"
   ]
  },
  {
   "cell_type": "code",
   "execution_count": 114,
   "metadata": {},
   "outputs": [],
   "source": [
    "df_compact = df_redundant.copy()"
   ]
  },
  {
   "cell_type": "code",
   "execution_count": 115,
   "metadata": {},
   "outputs": [
    {
     "output_type": "execute_result",
     "data": {
      "text/plain": "  Type A  Ping (ms) Units A     Type B  Download (Mbit/s) Units B   Type C  \\\n0  Ping:     19.866      ms  Download:               5.25  Mbit/s  Upload:   \n1  Ping:     17.126      ms  Download:               4.47  Mbit/s  Upload:   \n2  Ping:     16.582      ms  Download:               6.94  Mbit/s  Upload:   \n\n   Upload (Mbit/s) Units C             Datetime  \n0             0.85  Mbit/s  2020-07-21 18:50:14  \n1             1.11  Mbit/s  2020-07-21 18:50:52  \n2             1.03  Mbit/s  2020-07-21 18:51:26  ",
      "text/html": "<div>\n<style scoped>\n    .dataframe tbody tr th:only-of-type {\n        vertical-align: middle;\n    }\n\n    .dataframe tbody tr th {\n        vertical-align: top;\n    }\n\n    .dataframe thead th {\n        text-align: right;\n    }\n</style>\n<table border=\"1\" class=\"dataframe\">\n  <thead>\n    <tr style=\"text-align: right;\">\n      <th></th>\n      <th>Type A</th>\n      <th>Ping (ms)</th>\n      <th>Units A</th>\n      <th>Type B</th>\n      <th>Download (Mbit/s)</th>\n      <th>Units B</th>\n      <th>Type C</th>\n      <th>Upload (Mbit/s)</th>\n      <th>Units C</th>\n      <th>Datetime</th>\n    </tr>\n  </thead>\n  <tbody>\n    <tr>\n      <th>0</th>\n      <td>Ping:</td>\n      <td>19.866</td>\n      <td>ms</td>\n      <td>Download:</td>\n      <td>5.25</td>\n      <td>Mbit/s</td>\n      <td>Upload:</td>\n      <td>0.85</td>\n      <td>Mbit/s</td>\n      <td>2020-07-21 18:50:14</td>\n    </tr>\n    <tr>\n      <th>1</th>\n      <td>Ping:</td>\n      <td>17.126</td>\n      <td>ms</td>\n      <td>Download:</td>\n      <td>4.47</td>\n      <td>Mbit/s</td>\n      <td>Upload:</td>\n      <td>1.11</td>\n      <td>Mbit/s</td>\n      <td>2020-07-21 18:50:52</td>\n    </tr>\n    <tr>\n      <th>2</th>\n      <td>Ping:</td>\n      <td>16.582</td>\n      <td>ms</td>\n      <td>Download:</td>\n      <td>6.94</td>\n      <td>Mbit/s</td>\n      <td>Upload:</td>\n      <td>1.03</td>\n      <td>Mbit/s</td>\n      <td>2020-07-21 18:51:26</td>\n    </tr>\n  </tbody>\n</table>\n</div>"
     },
     "metadata": {},
     "execution_count": 115
    }
   ],
   "source": [
    "df_compact.rename(columns={'Measure A':'Ping (ms)', \n",
    "                           'Measure B': 'Download (Mbit/s)',\n",
    "                           'Measure C': 'Upload (Mbit/s)'}, inplace=True)\n",
    "df_compact.head(3)"
   ]
  },
  {
   "cell_type": "code",
   "execution_count": 116,
   "metadata": {},
   "outputs": [
    {
     "output_type": "execute_result",
     "data": {
      "text/plain": "   Ping (ms)  Download (Mbit/s)  Upload (Mbit/s)             Datetime\n0     19.866               5.25             0.85  2020-07-21 18:50:14\n1     17.126               4.47             1.11  2020-07-21 18:50:52\n2     16.582               6.94             1.03  2020-07-21 18:51:26\n3     20.182               7.28             1.10  2020-07-21 18:52:03\n4     19.884               7.26             1.09  2020-07-21 18:52:36",
      "text/html": "<div>\n<style scoped>\n    .dataframe tbody tr th:only-of-type {\n        vertical-align: middle;\n    }\n\n    .dataframe tbody tr th {\n        vertical-align: top;\n    }\n\n    .dataframe thead th {\n        text-align: right;\n    }\n</style>\n<table border=\"1\" class=\"dataframe\">\n  <thead>\n    <tr style=\"text-align: right;\">\n      <th></th>\n      <th>Ping (ms)</th>\n      <th>Download (Mbit/s)</th>\n      <th>Upload (Mbit/s)</th>\n      <th>Datetime</th>\n    </tr>\n  </thead>\n  <tbody>\n    <tr>\n      <th>0</th>\n      <td>19.866</td>\n      <td>5.25</td>\n      <td>0.85</td>\n      <td>2020-07-21 18:50:14</td>\n    </tr>\n    <tr>\n      <th>1</th>\n      <td>17.126</td>\n      <td>4.47</td>\n      <td>1.11</td>\n      <td>2020-07-21 18:50:52</td>\n    </tr>\n    <tr>\n      <th>2</th>\n      <td>16.582</td>\n      <td>6.94</td>\n      <td>1.03</td>\n      <td>2020-07-21 18:51:26</td>\n    </tr>\n    <tr>\n      <th>3</th>\n      <td>20.182</td>\n      <td>7.28</td>\n      <td>1.10</td>\n      <td>2020-07-21 18:52:03</td>\n    </tr>\n    <tr>\n      <th>4</th>\n      <td>19.884</td>\n      <td>7.26</td>\n      <td>1.09</td>\n      <td>2020-07-21 18:52:36</td>\n    </tr>\n  </tbody>\n</table>\n</div>"
     },
     "metadata": {},
     "execution_count": 116
    }
   ],
   "source": [
    "df_compact.drop(['Type A', 'Type B', 'Type C',\n",
    "         'Units A', 'Units B', 'Units C'], axis=1, inplace=True)\n",
    "\n",
    "df_compact.head()"
   ]
  },
  {
   "cell_type": "code",
   "execution_count": 117,
   "metadata": {},
   "outputs": [],
   "source": [
    "df_compact['Date'] = df_compact['Datetime'].apply(lambda dt_str: pd.to_datetime(dt_str).date())"
   ]
  },
  {
   "cell_type": "code",
   "execution_count": 118,
   "metadata": {},
   "outputs": [],
   "source": [
    "df_compact['Time'] = df_compact['Datetime'].apply(lambda dt_str: pd.to_datetime(dt_str).time())"
   ]
  },
  {
   "cell_type": "code",
   "execution_count": 119,
   "metadata": {},
   "outputs": [
    {
     "output_type": "execute_result",
     "data": {
      "text/plain": "   Ping (ms)  Download (Mbit/s)  Upload (Mbit/s)        Date      Time\n0     19.866               5.25             0.85  2020-07-21  18:50:14\n1     17.126               4.47             1.11  2020-07-21  18:50:52\n2     16.582               6.94             1.03  2020-07-21  18:51:26",
      "text/html": "<div>\n<style scoped>\n    .dataframe tbody tr th:only-of-type {\n        vertical-align: middle;\n    }\n\n    .dataframe tbody tr th {\n        vertical-align: top;\n    }\n\n    .dataframe thead th {\n        text-align: right;\n    }\n</style>\n<table border=\"1\" class=\"dataframe\">\n  <thead>\n    <tr style=\"text-align: right;\">\n      <th></th>\n      <th>Ping (ms)</th>\n      <th>Download (Mbit/s)</th>\n      <th>Upload (Mbit/s)</th>\n      <th>Date</th>\n      <th>Time</th>\n    </tr>\n  </thead>\n  <tbody>\n    <tr>\n      <th>0</th>\n      <td>19.866</td>\n      <td>5.25</td>\n      <td>0.85</td>\n      <td>2020-07-21</td>\n      <td>18:50:14</td>\n    </tr>\n    <tr>\n      <th>1</th>\n      <td>17.126</td>\n      <td>4.47</td>\n      <td>1.11</td>\n      <td>2020-07-21</td>\n      <td>18:50:52</td>\n    </tr>\n    <tr>\n      <th>2</th>\n      <td>16.582</td>\n      <td>6.94</td>\n      <td>1.03</td>\n      <td>2020-07-21</td>\n      <td>18:51:26</td>\n    </tr>\n  </tbody>\n</table>\n</div>"
     },
     "metadata": {},
     "execution_count": 119
    }
   ],
   "source": [
    "df_compact.drop(['Datetime'], axis=1, inplace=True)\n",
    "\n",
    "df_compact.head(3)"
   ]
  },
  {
   "cell_type": "code",
   "execution_count": 120,
   "metadata": {
    "tags": []
   },
   "outputs": [
    {
     "output_type": "stream",
     "name": "stdout",
     "text": "2020-07-21 <class 'datetime.date'>\n18:50:14 <class 'datetime.time'>\n"
    }
   ],
   "source": [
    "print(df_compact['Date'][0], type(df_compact['Date'][0]) )\n",
    "print(df_compact['Time'][0], type(df_compact['Time'][0]) )"
   ]
  },
  {
   "cell_type": "code",
   "execution_count": 121,
   "metadata": {},
   "outputs": [],
   "source": [
    "df_compact.to_csv('./Data/rpi_data_compact.csv')"
   ]
  }
 ]
}