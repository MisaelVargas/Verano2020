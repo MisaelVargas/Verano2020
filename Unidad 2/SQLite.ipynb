{
 "metadata": {
  "language_info": {
   "codemirror_mode": {
    "name": "ipython",
    "version": 3
   },
   "file_extension": ".py",
   "mimetype": "text/x-python",
   "name": "python",
   "nbconvert_exporter": "python",
   "pygments_lexer": "ipython3",
   "version": "3.8.3-final"
  },
  "orig_nbformat": 2,
  "kernelspec": {
   "name": "python38364bitverano2020condaa9523807e76e4665880a3db1c5830ccb",
   "display_name": "Python 3.8.3 64-bit ('Verano2020': conda)"
  }
 },
 "nbformat": 4,
 "nbformat_minor": 2,
 "cells": [
  {
   "cell_type": "markdown",
   "metadata": {},
   "source": [
    "![](CintillaTecNM-ITD.png)\n",
    "\n",
    "<div style = \"Text-align: center\">\n",
    "    <h2> Analisis de datos masivos</h2>\n",
    "    <h3> Python y SQLite </h3><br>\n",
    "    <h3> Nombre docente </h3>\n",
    "    <h4> Jose Gabriel Rodriguez Rivas<h4>\n",
    "    <h3> Nombre Alumno </h3>\n",
    "    <h4> Misael Omar Vargas Ochoa <h4>\n",
    "</div>"
   ]
  },
  {
   "cell_type": "markdown",
   "metadata": {},
   "source": [
    "### ¿Puede crear una consulta para mostrar los nombres de los cazadores de tesoros en la tabla colegas?\n",
    "\n",
    "#### Consulta \n",
    "\n",
    "select nombre from coworkers where titulo='Bounty Hunter';\n"
   ]
  },
  {
   "cell_type": "code",
   "execution_count": 2,
   "metadata": {},
   "outputs": [],
   "source": [
    "import sqlite3\n",
    "import pandas as pd\n",
    "from matplotlib import pyplot as plt"
   ]
  },
  {
   "cell_type": "code",
   "execution_count": 26,
   "metadata": {},
   "outputs": [
    {
     "output_type": "execute_result",
     "data": {
      "text/plain": "<sqlite3.Cursor at 0x7fd02d0d5180>"
     },
     "metadata": {},
     "execution_count": 26
    }
   ],
   "source": [
    "conn = sqlite3.connect('./Data/phonebook.db')\n",
    "\n",
    "cur = conn.cursor()\n",
    "\n",
    "cur.execute(\"SELECT * FROM coworkers;\")\n",
    "    "
   ]
  },
  {
   "cell_type": "code",
   "execution_count": 27,
   "metadata": {
    "tags": []
   },
   "outputs": [
    {
     "output_type": "stream",
     "name": "stdout",
     "text": "(101.0, 'Han Solo', 'Bounty Hunter', 5556667578.0)\n(102.0, 'Leia Skywalker', 'Princess', 5556542398.0)\n(103.0, 'Luke Skywalker', 'Jedi', 5558963267.0)\n(104.0, 'Obi-Wan Kenobi', 'Jedi', 5558963276.0)\n(105.0, 'Anakin Skywalker', 'Sith Lord', 5553477621.0)\n(106.0, 'Jabba The Hutt', 'Gangster', 5556613456.0)\n(107.0, 'Greedo', 'Debt Collector', 5552360918.0)\n(108.0, 'R2D2', 'Astro Droid', 5555210125.0)\n(109.0, 'C3PO', 'Protocol Droid', 5556633345.0)\n"
    }
   ],
   "source": [
    "for row in cur:\n",
    "    print(row)\n"
   ]
  },
  {
   "cell_type": "markdown",
   "metadata": {},
   "source": [
    "### Proporcione el código para consultar los nombres de todas las princesas."
   ]
  },
  {
   "cell_type": "code",
   "execution_count": 36,
   "metadata": {
    "tags": []
   },
   "outputs": [
    {
     "output_type": "stream",
     "name": "stdout",
     "text": "('Leia Skywalker',)\n"
    }
   ],
   "source": [
    "cur.execute(\"SELECT nombre FROM coworkers WHERE titulo='Princess';\")\n",
    "for row in cur:\n",
    "    print(row)\n"
   ]
  },
  {
   "cell_type": "markdown",
   "metadata": {},
   "source": [
    "### Proporcione el código para consultar los nombres de todas las princesas y los recaudadores."
   ]
  },
  {
   "cell_type": "code",
   "execution_count": 38,
   "metadata": {
    "tags": []
   },
   "outputs": [
    {
     "output_type": "stream",
     "name": "stdout",
     "text": "('Leia Skywalker',)\n('Greedo',)\n"
    }
   ],
   "source": [
    "cur.execute(\"SELECT nombre FROM coworkers WHERE titulo='Princess' OR titulo='Debt Collector';\")\n",
    "for row in cur:\n",
    "    print(row)"
   ]
  },
  {
   "cell_type": "markdown",
   "metadata": {},
   "source": [
    "### Proporcione el código para consultar los nombres y los números de todos los Jedi."
   ]
  },
  {
   "cell_type": "code",
   "execution_count": 39,
   "metadata": {
    "tags": []
   },
   "outputs": [
    {
     "output_type": "stream",
     "name": "stdout",
     "text": "('Luke Skywalker',)\n('Obi-Wan Kenobi',)\n"
    }
   ],
   "source": [
    "cur.execute(\"SELECT nombre FROM coworkers WHERE titulo='Jedi';\")\n",
    "for row in cur:\n",
    "    print(row)"
   ]
  },
  {
   "cell_type": "markdown",
   "metadata": {},
   "source": [
    "### Proporcione el código para consultar los nombres de los droids."
   ]
  },
  {
   "cell_type": "code",
   "execution_count": 40,
   "metadata": {
    "tags": []
   },
   "outputs": [
    {
     "output_type": "stream",
     "name": "stdout",
     "text": "('R2D2',)\n('C3PO',)\n"
    }
   ],
   "source": [
    "cur.execute(\"SELECT nombre FROM coworkers WHERE titulo LIKE '%Droid%';\")\n",
    "for row in cur:\n",
    "    print(row)"
   ]
  }
 ]
}