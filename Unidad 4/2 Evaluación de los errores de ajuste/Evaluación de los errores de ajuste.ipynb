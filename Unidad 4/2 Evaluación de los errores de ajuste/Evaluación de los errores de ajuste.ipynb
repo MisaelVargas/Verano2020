{
 "metadata": {
  "language_info": {
   "codemirror_mode": {
    "name": "ipython",
    "version": 3
   },
   "file_extension": ".py",
   "mimetype": "text/x-python",
   "name": "python",
   "nbconvert_exporter": "python",
   "pygments_lexer": "ipython3",
   "version": "3.8.3-final"
  },
  "orig_nbformat": 2,
  "kernelspec": {
   "name": "python38364bitverano2020condaa9523807e76e4665880a3db1c5830ccb",
   "display_name": "Python 3.8.3 64-bit ('Verano2020': conda)"
  }
 },
 "nbformat": 4,
 "nbformat_minor": 2,
 "cells": [
  {
   "cell_type": "markdown",
   "metadata": {},
   "source": [
    "![](../../CintillaTecNM-ITD.png)\n",
    "\n",
    "<div style = \"Text-align: center\">\n",
    "    <h2> Análisis de datos masivos </h2>\n",
    "    <h3> Evaluación de los errores de ajuste </h3><br>\n",
    "    <h3> Nombre docente </h3>\n",
    "    <h4> Jose Gabriel Rodriguez Rivas <h4>\n",
    "    <h3> Nombre Alumno </h3>\n",
    "    <h4> Misael Omar Vargas Ochoa <h4>\n",
    "</div>"
   ]
  },
  {
   "cell_type": "code",
   "execution_count": 1,
   "metadata": {},
   "outputs": [],
   "source": [
    "import warnings\n",
    "warnings.filterwarnings('ignore')\n",
    "\n",
    "# Import numpy and pandas\n",
    "import numpy as np\n",
    "import pandas as pd\n",
    "\n",
    "from sklearn import model_selection\n",
    "from sklearn.linear_model import LinearRegression"
   ]
  },
  {
   "cell_type": "code",
   "execution_count": 2,
   "metadata": {},
   "outputs": [
    {
     "output_type": "execute_result",
     "data": {
      "text/plain": "   district  sales  stores\n0         1  231.0      12\n1         2  156.0      13\n2         3   10.0      16\n3         4  519.0       2\n4         5  437.0       6",
      "text/html": "<div>\n<style scoped>\n    .dataframe tbody tr th:only-of-type {\n        vertical-align: middle;\n    }\n\n    .dataframe tbody tr th {\n        vertical-align: top;\n    }\n\n    .dataframe thead th {\n        text-align: right;\n    }\n</style>\n<table border=\"1\" class=\"dataframe\">\n  <thead>\n    <tr style=\"text-align: right;\">\n      <th></th>\n      <th>district</th>\n      <th>sales</th>\n      <th>stores</th>\n    </tr>\n  </thead>\n  <tbody>\n    <tr>\n      <th>0</th>\n      <td>1</td>\n      <td>231.0</td>\n      <td>12</td>\n    </tr>\n    <tr>\n      <th>1</th>\n      <td>2</td>\n      <td>156.0</td>\n      <td>13</td>\n    </tr>\n    <tr>\n      <th>2</th>\n      <td>3</td>\n      <td>10.0</td>\n      <td>16</td>\n    </tr>\n    <tr>\n      <th>3</th>\n      <td>4</td>\n      <td>519.0</td>\n      <td>2</td>\n    </tr>\n    <tr>\n      <th>4</th>\n      <td>5</td>\n      <td>437.0</td>\n      <td>6</td>\n    </tr>\n  </tbody>\n</table>\n</div>"
     },
     "metadata": {},
     "execution_count": 2
    }
   ],
   "source": [
    "# Import the file stores-dist.txt\n",
    "salesDist = pd.read_csv('./stores-dist.txt')\n",
    "\n",
    "# Change the column headings\n",
    "salesDist.columns = ['district','sales','stores']\n",
    "\n",
    "# Verify the imported data\n",
    "salesDist.head()"
   ]
  },
  {
   "cell_type": "code",
   "execution_count": 3,
   "metadata": {},
   "outputs": [
    {
     "output_type": "execute_result",
     "data": {
      "text/plain": "   sales  stores\n0  231.0      12\n1  156.0      13\n2   10.0      16\n3  519.0       2\n4  437.0       6",
      "text/html": "<div>\n<style scoped>\n    .dataframe tbody tr th:only-of-type {\n        vertical-align: middle;\n    }\n\n    .dataframe tbody tr th {\n        vertical-align: top;\n    }\n\n    .dataframe thead th {\n        text-align: right;\n    }\n</style>\n<table border=\"1\" class=\"dataframe\">\n  <thead>\n    <tr style=\"text-align: right;\">\n      <th></th>\n      <th>sales</th>\n      <th>stores</th>\n    </tr>\n  </thead>\n  <tbody>\n    <tr>\n      <th>0</th>\n      <td>231.0</td>\n      <td>12</td>\n    </tr>\n    <tr>\n      <th>1</th>\n      <td>156.0</td>\n      <td>13</td>\n    </tr>\n    <tr>\n      <th>2</th>\n      <td>10.0</td>\n      <td>16</td>\n    </tr>\n    <tr>\n      <th>3</th>\n      <td>519.0</td>\n      <td>2</td>\n    </tr>\n    <tr>\n      <th>4</th>\n      <td>437.0</td>\n      <td>6</td>\n    </tr>\n  </tbody>\n</table>\n</div>"
     },
     "metadata": {},
     "execution_count": 3
    }
   ],
   "source": [
    "# Drop the district column.\n",
    "sales = salesDist.drop('district',axis=1)\n",
    "\n",
    "# Verify that the district column has been dropped.\n",
    "sales.head()"
   ]
  },
  {
   "cell_type": "code",
   "execution_count": 4,
   "metadata": {},
   "outputs": [],
   "source": [
    "#dependent variable for y axis\n",
    "y = sales.sales \n",
    "#independent variable for x axis\n",
    "x = sales.stores"
   ]
  },
  {
   "cell_type": "code",
   "execution_count": 5,
   "metadata": {
    "tags": []
   },
   "outputs": [
    {
     "output_type": "stream",
     "name": "stdout",
     "text": "The array p(x) stores the calculated y value from the polynomial model for each x value,\n\n[169.93468442 134.14759895  26.78634257 527.80553905 384.65719719\n 420.44428266 205.72176988 134.14759895  26.78634257 277.29594081\n 527.80553905 313.08302627 456.23136812  62.57342803 169.93468442\n 205.72176988 420.44428266  98.36051349 313.08302627 527.80553905\n 563.59262451  62.57342803 134.14759895 348.87011173 384.65719719\n 563.59262451 277.29594081].\n\nThe vector of coefficients p describes this regression model:\n \n-35.79 x + 599.4\n\nThe zeroth order term (y-intercept or b) is stored in p[0]: 599.3797099726614.\n\nThe first order term (slope or m) is stored in p[1]: -35.787085462974005.\n"
    }
   ],
   "source": [
    "order = 1\n",
    "p = np.poly1d(np.polyfit(x, y ,order))\n",
    "\n",
    "print('The array p(x) stores the calculated y value from the polynomial model for each x value,\\n\\n{}.'.format(p(x)))\n",
    "print('\\nThe vector of coefficients p describes this regression model:\\n{}'.format(p))\n",
    "print('\\nThe zeroth order term (y-intercept or b) is stored in p[0]: {}.'.format(p[0]))\n",
    "print('\\nThe first order term (slope or m) is stored in p[1]: {}.'.format(p[1]))"
   ]
  },
  {
   "cell_type": "code",
   "execution_count": 6,
   "metadata": {},
   "outputs": [
    {
     "output_type": "execute_result",
     "data": {
      "text/plain": "0.83217523508888"
     },
     "metadata": {},
     "execution_count": 6
    }
   ],
   "source": [
    "from sklearn.metrics import r2_score\n",
    "r2 = r2_score(y, p(x))\n",
    "r2"
   ]
  },
  {
   "cell_type": "code",
   "execution_count": 7,
   "metadata": {},
   "outputs": [
    {
     "output_type": "execute_result",
     "data": {
      "text/plain": "5961.386465941158"
     },
     "metadata": {},
     "execution_count": 7
    }
   ],
   "source": [
    "from sklearn.metrics import mean_squared_error\n",
    "mse = mean_squared_error(y, p(x))\n",
    "mse"
   ]
  },
  {
   "cell_type": "code",
   "execution_count": 8,
   "metadata": {},
   "outputs": [
    {
     "output_type": "execute_result",
     "data": {
      "text/plain": "61.2232611786873"
     },
     "metadata": {},
     "execution_count": 8
    }
   ],
   "source": [
    "from sklearn.metrics import mean_absolute_error\n",
    "mae = mean_absolute_error(y, p(x))\n",
    "mae"
   ]
  },
  {
   "cell_type": "code",
   "execution_count": 9,
   "metadata": {},
   "outputs": [],
   "source": [
    "%matplotlib inline\n",
    "import matplotlib.pyplot as plt\n",
    "plt.style.use('seaborn-whitegrid')"
   ]
  },
  {
   "cell_type": "code",
   "execution_count": 10,
   "metadata": {},
   "outputs": [
    {
     "output_type": "execute_result",
     "data": {
      "text/plain": "[<matplotlib.lines.Line2D at 0x7fbf35478400>]"
     },
     "metadata": {},
     "execution_count": 10
    },
    {
     "output_type": "display_data",
     "data": {
      "text/plain": "<Figure size 432x288 with 1 Axes>",
      "image/svg+xml": "<?xml version=\"1.0\" encoding=\"utf-8\" standalone=\"no\"?>\n<!DOCTYPE svg PUBLIC \"-//W3C//DTD SVG 1.1//EN\"\n  \"http://www.w3.org/Graphics/SVG/1.1/DTD/svg11.dtd\">\n<!-- Created with matplotlib (https://matplotlib.org/) -->\n<svg height=\"244.661875pt\" version=\"1.1\" viewBox=\"0 0 372.846971 244.661875\" width=\"372.846971pt\" xmlns=\"http://www.w3.org/2000/svg\" xmlns:xlink=\"http://www.w3.org/1999/xlink\">\n <defs>\n  <style type=\"text/css\">\n*{stroke-linecap:butt;stroke-linejoin:round;}\n  </style>\n </defs>\n <g id=\"figure_1\">\n  <g id=\"patch_1\">\n   <path d=\"M 0 244.661875 \nL 372.846971 244.661875 \nL 372.846971 0 \nL 0 0 \nz\n\" style=\"fill:#ffffff;\"/>\n  </g>\n  <g id=\"axes_1\">\n   <g id=\"patch_2\">\n    <path d=\"M 27.382812 224.64 \nL 362.182813 224.64 \nL 362.182813 7.2 \nL 27.382812 7.2 \nz\n\" style=\"fill:#ffffff;\"/>\n   </g>\n   <g id=\"matplotlib.axis_1\">\n    <g id=\"xtick_1\">\n     <g id=\"line2d_1\">\n      <path clip-path=\"url(#p1354d0722e)\" d=\"M 42.600994 224.64 \nL 42.600994 7.2 \n\" style=\"fill:none;stroke:#cccccc;stroke-linecap:round;stroke-width:0.8;\"/>\n     </g>\n     <g id=\"line2d_2\"/>\n     <g id=\"text_1\">\n      <!-- 0.0 -->\n      <defs>\n       <path d=\"M 51.703125 34.421875 \nQ 51.703125 17.1875 45.625 8.09375 \nQ 39.546875 -0.984375 27.6875 -0.984375 \nQ 15.828125 -0.984375 9.859375 8.046875 \nQ 3.90625 17.09375 3.90625 34.421875 \nQ 3.90625 52.15625 9.6875 60.984375 \nQ 15.484375 69.828125 27.984375 69.828125 \nQ 40.140625 69.828125 45.921875 60.890625 \nQ 51.703125 51.953125 51.703125 34.421875 \nz\nM 42.78125 34.421875 \nQ 42.78125 49.3125 39.328125 56 \nQ 35.890625 62.703125 27.984375 62.703125 \nQ 19.875 62.703125 16.328125 56.109375 \nQ 12.796875 49.515625 12.796875 34.421875 \nQ 12.796875 19.78125 16.375 12.984375 \nQ 19.96875 6.203125 27.78125 6.203125 \nQ 35.546875 6.203125 39.15625 13.125 \nQ 42.78125 20.0625 42.78125 34.421875 \nz\n\" id=\"LiberationSans-48\"/>\n       <path d=\"M 9.125 0 \nL 9.125 10.6875 \nL 18.65625 10.6875 \nL 18.65625 0 \nz\n\" id=\"LiberationSans-46\"/>\n      </defs>\n      <g style=\"fill:#262626;\" transform=\"translate(35.650994 235.386875)scale(0.1 -0.1)\">\n       <use xlink:href=\"#LiberationSans-48\"/>\n       <use x=\"55.615234\" xlink:href=\"#LiberationSans-46\"/>\n       <use x=\"83.398438\" xlink:href=\"#LiberationSans-48\"/>\n      </g>\n     </g>\n    </g>\n    <g id=\"xtick_2\">\n     <g id=\"line2d_3\">\n      <path clip-path=\"url(#p1354d0722e)\" d=\"M 87.360353 224.64 \nL 87.360353 7.2 \n\" style=\"fill:none;stroke:#cccccc;stroke-linecap:round;stroke-width:0.8;\"/>\n     </g>\n     <g id=\"line2d_4\"/>\n     <g id=\"text_2\">\n      <!-- 2.5 -->\n      <defs>\n       <path d=\"M 5.03125 0 \nL 5.03125 6.203125 \nQ 7.515625 11.921875 11.109375 16.28125 \nQ 14.703125 20.65625 18.65625 24.1875 \nQ 22.609375 27.734375 26.484375 30.765625 \nQ 30.375 33.796875 33.5 36.8125 \nQ 36.625 39.84375 38.546875 43.15625 \nQ 40.484375 46.484375 40.484375 50.6875 \nQ 40.484375 56.34375 37.15625 59.46875 \nQ 33.84375 62.59375 27.9375 62.59375 \nQ 22.3125 62.59375 18.671875 59.546875 \nQ 15.046875 56.5 14.40625 50.984375 \nL 5.421875 51.8125 \nQ 6.390625 60.0625 12.421875 64.9375 \nQ 18.453125 69.828125 27.9375 69.828125 \nQ 38.328125 69.828125 43.921875 64.921875 \nQ 49.515625 60.015625 49.515625 50.984375 \nQ 49.515625 46.96875 47.671875 43.015625 \nQ 45.84375 39.0625 42.234375 35.109375 \nQ 38.625 31.15625 28.421875 22.859375 \nQ 22.796875 18.265625 19.46875 14.578125 \nQ 16.15625 10.890625 14.703125 7.46875 \nL 50.59375 7.46875 \nL 50.59375 0 \nz\n\" id=\"LiberationSans-50\"/>\n       <path d=\"M 51.421875 22.40625 \nQ 51.421875 11.53125 44.953125 5.265625 \nQ 38.484375 -0.984375 27 -0.984375 \nQ 17.390625 -0.984375 11.46875 3.21875 \nQ 5.5625 7.421875 4 15.375 \nL 12.890625 16.40625 \nQ 15.671875 6.203125 27.203125 6.203125 \nQ 34.28125 6.203125 38.28125 10.46875 \nQ 42.28125 14.75 42.28125 22.21875 \nQ 42.28125 28.71875 38.25 32.71875 \nQ 34.234375 36.71875 27.390625 36.71875 \nQ 23.828125 36.71875 20.75 35.59375 \nQ 17.671875 34.46875 14.59375 31.78125 \nL 6 31.78125 \nL 8.296875 68.796875 \nL 47.40625 68.796875 \nL 47.40625 61.328125 \nL 16.3125 61.328125 \nL 14.984375 39.5 \nQ 20.703125 43.890625 29.203125 43.890625 \nQ 39.359375 43.890625 45.390625 37.9375 \nQ 51.421875 31.984375 51.421875 22.40625 \nz\n\" id=\"LiberationSans-53\"/>\n      </defs>\n      <g style=\"fill:#262626;\" transform=\"translate(80.410353 235.386875)scale(0.1 -0.1)\">\n       <use xlink:href=\"#LiberationSans-50\"/>\n       <use x=\"55.615234\" xlink:href=\"#LiberationSans-46\"/>\n       <use x=\"83.398438\" xlink:href=\"#LiberationSans-53\"/>\n      </g>\n     </g>\n    </g>\n    <g id=\"xtick_3\">\n     <g id=\"line2d_5\">\n      <path clip-path=\"url(#p1354d0722e)\" d=\"M 132.119711 224.64 \nL 132.119711 7.2 \n\" style=\"fill:none;stroke:#cccccc;stroke-linecap:round;stroke-width:0.8;\"/>\n     </g>\n     <g id=\"line2d_6\"/>\n     <g id=\"text_3\">\n      <!-- 5.0 -->\n      <g style=\"fill:#262626;\" transform=\"translate(125.169711 235.386875)scale(0.1 -0.1)\">\n       <use xlink:href=\"#LiberationSans-53\"/>\n       <use x=\"55.615234\" xlink:href=\"#LiberationSans-46\"/>\n       <use x=\"83.398438\" xlink:href=\"#LiberationSans-48\"/>\n      </g>\n     </g>\n    </g>\n    <g id=\"xtick_4\">\n     <g id=\"line2d_7\">\n      <path clip-path=\"url(#p1354d0722e)\" d=\"M 176.879069 224.64 \nL 176.879069 7.2 \n\" style=\"fill:none;stroke:#cccccc;stroke-linecap:round;stroke-width:0.8;\"/>\n     </g>\n     <g id=\"line2d_8\"/>\n     <g id=\"text_4\">\n      <!-- 7.5 -->\n      <defs>\n       <path d=\"M 50.59375 61.671875 \nQ 40.046875 45.5625 35.6875 36.421875 \nQ 31.34375 27.296875 29.171875 18.40625 \nQ 27 9.515625 27 0 \nL 17.828125 0 \nQ 17.828125 13.1875 23.40625 27.75 \nQ 29 42.328125 42.09375 61.328125 \nL 5.125 61.328125 \nL 5.125 68.796875 \nL 50.59375 68.796875 \nz\n\" id=\"LiberationSans-55\"/>\n      </defs>\n      <g style=\"fill:#262626;\" transform=\"translate(169.929069 235.386875)scale(0.1 -0.1)\">\n       <use xlink:href=\"#LiberationSans-55\"/>\n       <use x=\"55.615234\" xlink:href=\"#LiberationSans-46\"/>\n       <use x=\"83.398438\" xlink:href=\"#LiberationSans-53\"/>\n      </g>\n     </g>\n    </g>\n    <g id=\"xtick_5\">\n     <g id=\"line2d_9\">\n      <path clip-path=\"url(#p1354d0722e)\" d=\"M 221.638427 224.64 \nL 221.638427 7.2 \n\" style=\"fill:none;stroke:#cccccc;stroke-linecap:round;stroke-width:0.8;\"/>\n     </g>\n     <g id=\"line2d_10\"/>\n     <g id=\"text_5\">\n      <!-- 10.0 -->\n      <defs>\n       <path d=\"M 7.625 0 \nL 7.625 7.46875 \nL 25.140625 7.46875 \nL 25.140625 60.40625 \nL 9.625 49.3125 \nL 9.625 57.625 \nL 25.875 68.796875 \nL 33.984375 68.796875 \nL 33.984375 7.46875 \nL 50.734375 7.46875 \nL 50.734375 0 \nz\n\" id=\"LiberationSans-49\"/>\n      </defs>\n      <g style=\"fill:#262626;\" transform=\"translate(211.907959 235.386875)scale(0.1 -0.1)\">\n       <use xlink:href=\"#LiberationSans-49\"/>\n       <use x=\"55.615234\" xlink:href=\"#LiberationSans-48\"/>\n       <use x=\"111.230469\" xlink:href=\"#LiberationSans-46\"/>\n       <use x=\"139.013672\" xlink:href=\"#LiberationSans-48\"/>\n      </g>\n     </g>\n    </g>\n    <g id=\"xtick_6\">\n     <g id=\"line2d_11\">\n      <path clip-path=\"url(#p1354d0722e)\" d=\"M 266.397786 224.64 \nL 266.397786 7.2 \n\" style=\"fill:none;stroke:#cccccc;stroke-linecap:round;stroke-width:0.8;\"/>\n     </g>\n     <g id=\"line2d_12\"/>\n     <g id=\"text_6\">\n      <!-- 12.5 -->\n      <g style=\"fill:#262626;\" transform=\"translate(256.667317 235.386875)scale(0.1 -0.1)\">\n       <use xlink:href=\"#LiberationSans-49\"/>\n       <use x=\"55.615234\" xlink:href=\"#LiberationSans-50\"/>\n       <use x=\"111.230469\" xlink:href=\"#LiberationSans-46\"/>\n       <use x=\"139.013672\" xlink:href=\"#LiberationSans-53\"/>\n      </g>\n     </g>\n    </g>\n    <g id=\"xtick_7\">\n     <g id=\"line2d_13\">\n      <path clip-path=\"url(#p1354d0722e)\" d=\"M 311.157144 224.64 \nL 311.157144 7.2 \n\" style=\"fill:none;stroke:#cccccc;stroke-linecap:round;stroke-width:0.8;\"/>\n     </g>\n     <g id=\"line2d_14\"/>\n     <g id=\"text_7\">\n      <!-- 15.0 -->\n      <g style=\"fill:#262626;\" transform=\"translate(301.426675 235.386875)scale(0.1 -0.1)\">\n       <use xlink:href=\"#LiberationSans-49\"/>\n       <use x=\"55.615234\" xlink:href=\"#LiberationSans-53\"/>\n       <use x=\"111.230469\" xlink:href=\"#LiberationSans-46\"/>\n       <use x=\"139.013672\" xlink:href=\"#LiberationSans-48\"/>\n      </g>\n     </g>\n    </g>\n    <g id=\"xtick_8\">\n     <g id=\"line2d_15\">\n      <path clip-path=\"url(#p1354d0722e)\" d=\"M 355.916502 224.64 \nL 355.916502 7.2 \n\" style=\"fill:none;stroke:#cccccc;stroke-linecap:round;stroke-width:0.8;\"/>\n     </g>\n     <g id=\"line2d_16\"/>\n     <g id=\"text_8\">\n      <!-- 17.5 -->\n      <g style=\"fill:#262626;\" transform=\"translate(346.186034 235.386875)scale(0.1 -0.1)\">\n       <use xlink:href=\"#LiberationSans-49\"/>\n       <use x=\"55.615234\" xlink:href=\"#LiberationSans-55\"/>\n       <use x=\"111.230469\" xlink:href=\"#LiberationSans-46\"/>\n       <use x=\"139.013672\" xlink:href=\"#LiberationSans-53\"/>\n      </g>\n     </g>\n    </g>\n   </g>\n   <g id=\"matplotlib.axis_2\">\n    <g id=\"ytick_1\">\n     <g id=\"line2d_17\">\n      <path clip-path=\"url(#p1354d0722e)\" d=\"M 27.382812 211.831876 \nL 362.182813 211.831876 \n\" style=\"fill:none;stroke:#cccccc;stroke-linecap:round;stroke-width:0.8;\"/>\n     </g>\n     <g id=\"line2d_18\"/>\n     <g id=\"text_9\">\n      <!-- 0 -->\n      <g style=\"fill:#262626;\" transform=\"translate(18.321875 215.455313)scale(0.1 -0.1)\">\n       <use xlink:href=\"#LiberationSans-48\"/>\n      </g>\n     </g>\n    </g>\n    <g id=\"ytick_2\">\n     <g id=\"line2d_19\">\n      <path clip-path=\"url(#p1354d0722e)\" d=\"M 27.382812 179.340245 \nL 362.182813 179.340245 \n\" style=\"fill:none;stroke:#cccccc;stroke-linecap:round;stroke-width:0.8;\"/>\n     </g>\n     <g id=\"line2d_20\"/>\n     <g id=\"text_10\">\n      <!-- 100 -->\n      <g style=\"fill:#262626;\" transform=\"translate(7.2 182.963683)scale(0.1 -0.1)\">\n       <use xlink:href=\"#LiberationSans-49\"/>\n       <use x=\"55.615234\" xlink:href=\"#LiberationSans-48\"/>\n       <use x=\"111.230469\" xlink:href=\"#LiberationSans-48\"/>\n      </g>\n     </g>\n    </g>\n    <g id=\"ytick_3\">\n     <g id=\"line2d_21\">\n      <path clip-path=\"url(#p1354d0722e)\" d=\"M 27.382812 146.848615 \nL 362.182813 146.848615 \n\" style=\"fill:none;stroke:#cccccc;stroke-linecap:round;stroke-width:0.8;\"/>\n     </g>\n     <g id=\"line2d_22\"/>\n     <g id=\"text_11\">\n      <!-- 200 -->\n      <g style=\"fill:#262626;\" transform=\"translate(7.2 150.472053)scale(0.1 -0.1)\">\n       <use xlink:href=\"#LiberationSans-50\"/>\n       <use x=\"55.615234\" xlink:href=\"#LiberationSans-48\"/>\n       <use x=\"111.230469\" xlink:href=\"#LiberationSans-48\"/>\n      </g>\n     </g>\n    </g>\n    <g id=\"ytick_4\">\n     <g id=\"line2d_23\">\n      <path clip-path=\"url(#p1354d0722e)\" d=\"M 27.382812 114.356985 \nL 362.182813 114.356985 \n\" style=\"fill:none;stroke:#cccccc;stroke-linecap:round;stroke-width:0.8;\"/>\n     </g>\n     <g id=\"line2d_24\"/>\n     <g id=\"text_12\">\n      <!-- 300 -->\n      <defs>\n       <path d=\"M 51.21875 19 \nQ 51.21875 9.46875 45.15625 4.234375 \nQ 39.109375 -0.984375 27.875 -0.984375 \nQ 17.4375 -0.984375 11.203125 3.734375 \nQ 4.984375 8.453125 3.8125 17.671875 \nL 12.890625 18.5 \nQ 14.65625 6.296875 27.875 6.296875 \nQ 34.515625 6.296875 38.296875 9.5625 \nQ 42.09375 12.84375 42.09375 19.28125 \nQ 42.09375 24.90625 37.765625 28.046875 \nQ 33.453125 31.203125 25.296875 31.203125 \nL 20.3125 31.203125 \nL 20.3125 38.8125 \nL 25.09375 38.8125 \nQ 32.328125 38.8125 36.296875 41.96875 \nQ 40.28125 45.125 40.28125 50.6875 \nQ 40.28125 56.203125 37.03125 59.390625 \nQ 33.796875 62.59375 27.390625 62.59375 \nQ 21.578125 62.59375 17.984375 59.609375 \nQ 14.40625 56.640625 13.8125 51.21875 \nL 4.984375 51.90625 \nQ 5.953125 60.359375 11.984375 65.09375 \nQ 18.015625 69.828125 27.484375 69.828125 \nQ 37.84375 69.828125 43.578125 65.015625 \nQ 49.3125 60.203125 49.3125 51.609375 \nQ 49.3125 45.015625 45.625 40.890625 \nQ 41.9375 36.765625 34.90625 35.296875 \nL 34.90625 35.109375 \nQ 42.625 34.28125 46.921875 29.9375 \nQ 51.21875 25.59375 51.21875 19 \nz\n\" id=\"LiberationSans-51\"/>\n      </defs>\n      <g style=\"fill:#262626;\" transform=\"translate(7.2 117.980422)scale(0.1 -0.1)\">\n       <use xlink:href=\"#LiberationSans-51\"/>\n       <use x=\"55.615234\" xlink:href=\"#LiberationSans-48\"/>\n       <use x=\"111.230469\" xlink:href=\"#LiberationSans-48\"/>\n      </g>\n     </g>\n    </g>\n    <g id=\"ytick_5\">\n     <g id=\"line2d_25\">\n      <path clip-path=\"url(#p1354d0722e)\" d=\"M 27.382812 81.865355 \nL 362.182813 81.865355 \n\" style=\"fill:none;stroke:#cccccc;stroke-linecap:round;stroke-width:0.8;\"/>\n     </g>\n     <g id=\"line2d_26\"/>\n     <g id=\"text_13\">\n      <!-- 400 -->\n      <defs>\n       <path d=\"M 43.015625 15.578125 \nL 43.015625 0 \nL 34.71875 0 \nL 34.71875 15.578125 \nL 2.296875 15.578125 \nL 2.296875 22.40625 \nL 33.796875 68.796875 \nL 43.015625 68.796875 \nL 43.015625 22.515625 \nL 52.6875 22.515625 \nL 52.6875 15.578125 \nz\nM 34.71875 58.890625 \nQ 34.625 58.59375 33.34375 56.296875 \nQ 32.078125 54 31.453125 53.078125 \nL 13.8125 27.09375 \nL 11.1875 23.484375 \nL 10.40625 22.515625 \nL 34.71875 22.515625 \nz\n\" id=\"LiberationSans-52\"/>\n      </defs>\n      <g style=\"fill:#262626;\" transform=\"translate(7.2 85.488792)scale(0.1 -0.1)\">\n       <use xlink:href=\"#LiberationSans-52\"/>\n       <use x=\"55.615234\" xlink:href=\"#LiberationSans-48\"/>\n       <use x=\"111.230469\" xlink:href=\"#LiberationSans-48\"/>\n      </g>\n     </g>\n    </g>\n    <g id=\"ytick_6\">\n     <g id=\"line2d_27\">\n      <path clip-path=\"url(#p1354d0722e)\" d=\"M 27.382812 49.373724 \nL 362.182813 49.373724 \n\" style=\"fill:none;stroke:#cccccc;stroke-linecap:round;stroke-width:0.8;\"/>\n     </g>\n     <g id=\"line2d_28\"/>\n     <g id=\"text_14\">\n      <!-- 500 -->\n      <g style=\"fill:#262626;\" transform=\"translate(7.2 52.997162)scale(0.1 -0.1)\">\n       <use xlink:href=\"#LiberationSans-53\"/>\n       <use x=\"55.615234\" xlink:href=\"#LiberationSans-48\"/>\n       <use x=\"111.230469\" xlink:href=\"#LiberationSans-48\"/>\n      </g>\n     </g>\n    </g>\n    <g id=\"ytick_7\">\n     <g id=\"line2d_29\">\n      <path clip-path=\"url(#p1354d0722e)\" d=\"M 27.382812 16.882094 \nL 362.182813 16.882094 \n\" style=\"fill:none;stroke:#cccccc;stroke-linecap:round;stroke-width:0.8;\"/>\n     </g>\n     <g id=\"line2d_30\"/>\n     <g id=\"text_15\">\n      <!-- 600 -->\n      <defs>\n       <path d=\"M 51.21875 22.515625 \nQ 51.21875 11.625 45.3125 5.3125 \nQ 39.40625 -0.984375 29 -0.984375 \nQ 17.390625 -0.984375 11.234375 7.65625 \nQ 5.078125 16.3125 5.078125 32.8125 \nQ 5.078125 50.6875 11.46875 60.25 \nQ 17.875 69.828125 29.6875 69.828125 \nQ 45.265625 69.828125 49.3125 55.8125 \nL 40.921875 54.296875 \nQ 38.328125 62.703125 29.59375 62.703125 \nQ 22.078125 62.703125 17.9375 55.6875 \nQ 13.8125 48.6875 13.8125 35.40625 \nQ 16.21875 39.84375 20.5625 42.15625 \nQ 24.90625 44.484375 30.515625 44.484375 \nQ 40.046875 44.484375 45.625 38.515625 \nQ 51.21875 32.5625 51.21875 22.515625 \nz\nM 42.28125 22.125 \nQ 42.28125 29.59375 38.625 33.640625 \nQ 34.96875 37.703125 28.421875 37.703125 \nQ 22.265625 37.703125 18.484375 34.109375 \nQ 14.703125 30.515625 14.703125 24.21875 \nQ 14.703125 16.265625 18.625 11.1875 \nQ 22.5625 6.109375 28.71875 6.109375 \nQ 35.0625 6.109375 38.671875 10.375 \nQ 42.28125 14.65625 42.28125 22.125 \nz\n\" id=\"LiberationSans-54\"/>\n      </defs>\n      <g style=\"fill:#262626;\" transform=\"translate(7.2 20.505532)scale(0.1 -0.1)\">\n       <use xlink:href=\"#LiberationSans-54\"/>\n       <use x=\"55.615234\" xlink:href=\"#LiberationSans-48\"/>\n       <use x=\"111.230469\" xlink:href=\"#LiberationSans-48\"/>\n      </g>\n     </g>\n    </g>\n   </g>\n   <g id=\"line2d_31\">\n    <path clip-path=\"url(#p1354d0722e)\" d=\"M 42.600994 17.083636 \nL 60.504738 28.711444 \nL 78.408481 40.339251 \nL 96.312224 51.967059 \nL 114.215968 63.594866 \nL 132.119711 75.222674 \nL 150.023454 86.850481 \nL 167.927198 98.478289 \nL 185.830941 110.106096 \nL 203.734684 121.733904 \nL 221.638427 133.361711 \nL 239.542171 144.989519 \nL 257.445914 156.617326 \nL 275.349657 168.245134 \nL 293.253401 179.872941 \nL 311.157144 191.500749 \nL 329.060887 203.128556 \nL 346.964631 214.756364 \n\" style=\"fill:none;stroke:#1f77b4;stroke-linecap:round;stroke-width:1.5;\"/>\n   </g>\n   <g id=\"line2d_32\">\n    <defs>\n     <path d=\"M 0 3 \nC 0.795609 3 1.55874 2.683901 2.12132 2.12132 \nC 2.683901 1.55874 3 0.795609 3 0 \nC 3 -0.795609 2.683901 -1.55874 2.12132 -2.12132 \nC 1.55874 -2.683901 0.795609 -3 0 -3 \nC -0.795609 -3 -1.55874 -2.683901 -2.12132 -2.12132 \nC -2.683901 -1.55874 -3 -0.795609 -3 0 \nC -3 0.795609 -2.683901 1.55874 -2.12132 2.12132 \nC -1.55874 2.683901 -0.795609 3 0 3 \nz\n\" id=\"mddde2a8e4c\" style=\"stroke:#ff7f0e;\"/>\n    </defs>\n    <g clip-path=\"url(#p1354d0722e)\">\n     <use style=\"fill:#ff7f0e;stroke:#ff7f0e;\" x=\"257.445914\" xlink:href=\"#mddde2a8e4c\" y=\"136.77621\"/>\n     <use style=\"fill:#ff7f0e;stroke:#ff7f0e;\" x=\"275.349657\" xlink:href=\"#mddde2a8e4c\" y=\"161.144932\"/>\n     <use style=\"fill:#ff7f0e;stroke:#ff7f0e;\" x=\"329.060887\" xlink:href=\"#mddde2a8e4c\" y=\"208.582713\"/>\n     <use style=\"fill:#ff7f0e;stroke:#ff7f0e;\" x=\"78.408481\" xlink:href=\"#mddde2a8e4c\" y=\"43.200315\"/>\n     <use style=\"fill:#ff7f0e;stroke:#ff7f0e;\" x=\"150.023454\" xlink:href=\"#mddde2a8e4c\" y=\"69.843451\"/>\n     <use style=\"fill:#ff7f0e;stroke:#ff7f0e;\" x=\"132.119711\" xlink:href=\"#mddde2a8e4c\" y=\"53.597636\"/>\n     <use style=\"fill:#ff7f0e;stroke:#ff7f0e;\" x=\"239.542171\" xlink:href=\"#mddde2a8e4c\" y=\"114.681901\"/>\n     <use style=\"fill:#ff7f0e;stroke:#ff7f0e;\" x=\"275.349657\" xlink:href=\"#mddde2a8e4c\" y=\"148.473197\"/>\n     <use style=\"fill:#ff7f0e;stroke:#ff7f0e;\" x=\"329.060887\" xlink:href=\"#mddde2a8e4c\" y=\"205.333549\"/>\n     <use style=\"fill:#ff7f0e;stroke:#ff7f0e;\" x=\"203.734684\" xlink:href=\"#mddde2a8e4c\" y=\"189.737567\"/>\n     <use style=\"fill:#ff7f0e;stroke:#ff7f0e;\" x=\"78.408481\" xlink:href=\"#mddde2a8e4c\" y=\"26.629583\"/>\n     <use style=\"fill:#ff7f0e;stroke:#ff7f0e;\" x=\"185.830941\" xlink:href=\"#mddde2a8e4c\" y=\"72.767698\"/>\n     <use style=\"fill:#ff7f0e;stroke:#ff7f0e;\" x=\"114.215968\" xlink:href=\"#mddde2a8e4c\" y=\"61.070711\"/>\n     <use style=\"fill:#ff7f0e;stroke:#ff7f0e;\" x=\"311.157144\" xlink:href=\"#mddde2a8e4c\" y=\"206.958131\"/>\n     <use style=\"fill:#ff7f0e;stroke:#ff7f0e;\" x=\"257.445914\" xlink:href=\"#mddde2a8e4c\" y=\"190.712316\"/>\n     <use style=\"fill:#ff7f0e;stroke:#ff7f0e;\" x=\"239.542171\" xlink:href=\"#mddde2a8e4c\" y=\"179.990078\"/>\n     <use style=\"fill:#ff7f0e;stroke:#ff7f0e;\" x=\"132.119711\" xlink:href=\"#mddde2a8e4c\" y=\"82.515187\"/>\n     <use style=\"fill:#ff7f0e;stroke:#ff7f0e;\" x=\"293.253401\" xlink:href=\"#mddde2a8e4c\" y=\"159.520351\"/>\n     <use style=\"fill:#ff7f0e;stroke:#ff7f0e;\" x=\"185.830941\" xlink:href=\"#mddde2a8e4c\" y=\"82.840103\"/>\n     <use style=\"fill:#ff7f0e;stroke:#ff7f0e;\" x=\"78.408481\" xlink:href=\"#mddde2a8e4c\" y=\"50.348473\"/>\n     <use style=\"fill:#ff7f0e;stroke:#ff7f0e;\" x=\"60.504738\" xlink:href=\"#mddde2a8e4c\" y=\"40.276068\"/>\n     <use style=\"fill:#ff7f0e;stroke:#ff7f0e;\" x=\"311.157144\" xlink:href=\"#mddde2a8e4c\" y=\"179.665162\"/>\n     <use style=\"fill:#ff7f0e;stroke:#ff7f0e;\" x=\"275.349657\" xlink:href=\"#mddde2a8e4c\" y=\"211.669417\"/>\n     <use style=\"fill:#ff7f0e;stroke:#ff7f0e;\" x=\"167.927198\" xlink:href=\"#mddde2a8e4c\" y=\"99.085919\"/>\n     <use style=\"fill:#ff7f0e;stroke:#ff7f0e;\" x=\"150.023454\" xlink:href=\"#mddde2a8e4c\" y=\"101.035416\"/>\n     <use style=\"fill:#ff7f0e;stroke:#ff7f0e;\" x=\"60.504738\" xlink:href=\"#mddde2a8e4c\" y=\"47.09931\"/>\n     <use style=\"fill:#ff7f0e;stroke:#ff7f0e;\" x=\"203.734684\" xlink:href=\"#mddde2a8e4c\" y=\"81.865355\"/>\n    </g>\n   </g>\n   <g id=\"patch_3\">\n    <path d=\"M 27.382812 224.64 \nL 27.382812 7.2 \n\" style=\"fill:none;stroke:#cccccc;stroke-linecap:square;stroke-linejoin:miter;\"/>\n   </g>\n   <g id=\"patch_4\">\n    <path d=\"M 362.182813 224.64 \nL 362.182813 7.2 \n\" style=\"fill:none;stroke:#cccccc;stroke-linecap:square;stroke-linejoin:miter;\"/>\n   </g>\n   <g id=\"patch_5\">\n    <path d=\"M 27.382812 224.64 \nL 362.182812 224.64 \n\" style=\"fill:none;stroke:#cccccc;stroke-linecap:square;stroke-linejoin:miter;\"/>\n   </g>\n   <g id=\"patch_6\">\n    <path d=\"M 27.382812 7.2 \nL 362.182812 7.2 \n\" style=\"fill:none;stroke:#cccccc;stroke-linecap:square;stroke-linejoin:miter;\"/>\n   </g>\n  </g>\n </g>\n <defs>\n  <clipPath id=\"p1354d0722e\">\n   <rect height=\"217.44\" width=\"334.8\" x=\"27.382812\" y=\"7.2\"/>\n  </clipPath>\n </defs>\n</svg>\n",
      "image/png": "[encoded data removed]"
     },
     "metadata": {}
    }
   ],
   "source": [
    "fig = plt.figure()\n",
    "ax = plt.axes()\n",
    "\n",
    "x1 = range(18)\n",
    "y1 = p(x1)\n",
    "ax.plot(x1, y1);\n",
    "ax.plot(sales.stores, sales.sales, 'o') "
   ]
  }
 ]
}